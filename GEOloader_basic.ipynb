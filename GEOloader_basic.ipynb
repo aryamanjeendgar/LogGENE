{
 "cells": [
  {
   "cell_type": "code",
   "execution_count": 1,
   "metadata": {},
   "outputs": [],
   "source": [
    "import numpy as np\n",
    "import pandas as pd\n",
    "import os\n",
    "import torch\n",
    "import torch.nn.functional as F\n",
    "import torch.nn as nn\n",
    "from torch import optim\n",
    "from adahessian import Adahessian, get_params_grad\n",
    "import torch.optim.lr_scheduler as lr_scheduler"
   ]
  },
  {
   "cell_type": "markdown",
   "metadata": {},
   "source": [
    "## Writing the data-loader class for the GEO-dataset (can be changed to work for both the training and validation sets)"
   ]
  },
  {
   "cell_type": "code",
   "execution_count": 2,
   "metadata": {},
   "outputs": [],
   "source": [
    "def GEOdataLoader(path, bSize= 16):\n",
    "    \"\"\"\n",
    "    Specify the path to the parent folder containing the .npy files\n",
    "    \"\"\"\n",
    "    X_tr= np.load(os.path.join(path, \"X_tr.npy\"))\n",
    "    Y_tr= np.load(os.path.join(path, \"Y_tr.npy\"))\n",
    "    X_va= np.load(os.path.join(path, \"X_va.npy\"))\n",
    "    Y_va= np.load(os.path.join(path, \"Y_va.npy\"))\n",
    "\n",
    "    test_data= torch.utils.data.TensorDataset(torch.from_numpy(X_tr).float(), torch.from_numpy(Y_tr).float())\n",
    "    val_data= torch.utils.data.TensorDataset(torch.from_numpy(X_va).float(), torch.from_numpy(Y_va).float())\n",
    "    trainLoader= torch.utils.data.DataLoader(test_data, batch_size=bSize, shuffle=True) \n",
    "    valLoader= torch.utils.data.DataLoader(val_data, batch_size=bSize, shuffle=True) \n",
    "    return (trainLoader, valLoader)"
   ]
  },
  {
   "cell_type": "code",
   "execution_count": 3,
   "metadata": {},
   "outputs": [],
   "source": [
    "# defining all the criterions to be used in the following experiments:\n",
    "def tiltedLC(x, y, tau, h):\n",
    "    e= y-x # errors\n",
    "    ind= (torch.sign(e)+1)/2 # the division in the log-cosh is only about the origin\n",
    "    quantFactor= (1-tau)*(1-ind) + tau*ind\n",
    "    loss= quantFactor*torch.log(torch.cosh(e))\n",
    "    loss= torch.mean(loss)\n",
    "    return loss\n",
    "\n",
    "def check_loss(x, y, tau): # the x,*args way to pass arguments to this function is an idiom for the scipy.optimize() library y = args[0][0]\n",
    "    e = y-x\n",
    "    # below I(e<0)\n",
    "    ind = (np.sign(-e)+1)/2\n",
    "    loss = np.mean(e*(tau-ind))\n",
    "    return loss\n",
    "\n",
    "\n",
    "class TiltedLC(nn.Module):\n",
    "    def __init__(self):\n",
    "        super(TiltedLC, self).__init__()\n",
    "    def forward(self, x, y, tau, h):\n",
    "        return tiltedLC(x, y, tau, h)\n",
    "\n",
    "class CheckLoss(nn.Module):\n",
    "    def __init__(self):\n",
    "        super(CheckLoss, self).__init__()\n",
    "    def forward(self, x, y, tau):\n",
    "        return check_loss(x, y, tau)"
   ]
  },
  {
   "cell_type": "code",
   "execution_count": 4,
   "metadata": {},
   "outputs": [],
   "source": [
    "# global initialisations:\n",
    "h= 0.4 # smoothing parameter for the log-cosh \n",
    "tau= 0.5\n",
    "device= ('cuda' if torch.cuda.is_available() else 'cpu')\n",
    "# device= 'cpu'\n",
    "trainLoader, valLoader= GEOdataLoader(\"/home/aryamanj/Downloads/LGdata\")\n",
    "criterion= TiltedLC()\n",
    "criterion1= CheckLoss()\n",
    "criterion2= nn.L1Loss()\n",
    "criterion3= nn.MSELoss()\n",
    "N_EPOCHS= 500"
   ]
  },
  {
   "cell_type": "code",
   "execution_count": 11,
   "metadata": {},
   "outputs": [],
   "source": [
    "# A new network class for LALR training, that supports returning penultimate activations\n",
    "class LALRnetwork(nn.Module):\n",
    "    def __init__(self, size1, size2, drop):\n",
    "        super(LALRnetwork, self).__init__()\n",
    "        self.l1= nn.Linear(943, size1)\n",
    "        self.l2= nn.Dropout(p= drop)\n",
    "        self.l3= nn.Linear(size1, size2)\n",
    "        self.l4= nn.Dropout(p= drop)\n",
    "        self.l5= nn.Linear(size2, 4760)\n",
    "\n",
    "    def forward(self, x):\n",
    "        x= F.tanh(self.l1(x))\n",
    "        x= F.tanh(self.l3(self.l2(x)))\n",
    "        x= self.l5(self.l4(x))\n",
    "        return x\n",
    "    \n",
    "    def penU(self, x):\n",
    "        x= F.tanh(self.l2(self.l1(x)))\n",
    "        x= F.tanh(self.l4(self.l3(x)))\n",
    "        return x\n",
    "\n",
    "class LALRwideM(nn.Module):\n",
    "    def __init__(self, size1, drop):\n",
    "        super(LALRwideM, self).__init__()\n",
    "        self.l1= nn.Linear(943, size1)\n",
    "        self.l2= nn.Dropout(p= drop)\n",
    "        self.l3= nn.Linear(size1, 4760)\n",
    "\n",
    "    def forward(self, x):\n",
    "        x= F.tanh(self.l1(x))\n",
    "        x= self.l3(self.l2(x))\n",
    "        return x\n",
    "        \n",
    "    def penU(self, x):\n",
    "        x= F.tanh(self.l1(x))\n",
    "        return self.l2(x)\n",
    "\n"
   ]
  },
  {
   "cell_type": "markdown",
   "metadata": {},
   "source": [
    "## Instantiations and training loops start for constant LR's"
   ]
  },
  {
   "cell_type": "code",
   "execution_count": 12,
   "metadata": {},
   "outputs": [],
   "source": [
    "# instantiating objects for all constantLR tests:\n",
    "size1,size2= 300,300\n",
    "model_CLR_S= LALRnetwork(size1, size2, 0.1).to(device)\n",
    "optimizer_CLR_S= optim.SGD(model_CLR_S.parameters(), lr= 0.1)\n",
    "lossList_CLR_S= []\n",
    "valList_CLR_S= []\n",
    "\n",
    "model_LBFGS_S= LALRnetwork(size1, size2, 0.1).to(device)\n",
    "optimizer_LBFGS_S= optim.LBFGS(model_LBFGS_S.parameters())\n",
    "lossList_LBFGS_S= []\n",
    "valList_LBFGS_S= []\n",
    "\n",
    "size1, size2= 1000, 1000\n",
    "model_CLR_M= LALRnetwork(size1, size2, 0.1).to(device)\n",
    "optimizer_CLR_M= optim.SGD(model_CLR_M.parameters(), lr= 0.1)\n",
    "lossList_CLR_M= []\n",
    "valList_CLR_M= []\n",
    "\n",
    "size1, size2= 3000, 3000\n",
    "model_CLR_L= LALRnetwork(size1, size2, 0.1).to(device)\n",
    "optimizer_CLR_L= optim.SGD(model_CLR_L.parameters(), lr= 0.1)\n",
    "lossList_CLR_L= []\n",
    "valList_CLR_L= []\n",
    "\n",
    "size1= 2000\n",
    "model_CLR_WM= LALRwideM(size1, 0.1).to(device)\n",
    "optimizer_CLR_WM= optim.SGD(model_CLR_WM.parameters(), lr= 0.1)\n",
    "lossList_CLR_WM= []\n",
    "valList_CLR_WM= []"
   ]
  },
  {
   "cell_type": "code",
   "execution_count": 23,
   "metadata": {},
   "outputs": [],
   "source": [
    "def trainConstantLR(model, optimizer, criterion, tau, epochs, ls_list, valList):\n",
    "    \"\"\"\n",
    "    Training loop used for constantLR\n",
    "    \"\"\"\n",
    "    for epoch in range(epochs):\n",
    "        epoch_loss= 0.0\n",
    "        # training loop\n",
    "        model.train()\n",
    "        for inputs, labels in trainLoader: \n",
    "            inputs= inputs.to(device) \n",
    "            labels= labels.to(device)\n",
    "            optimizer.zero_grad() \n",
    "            outputs= model(inputs) \n",
    "            loss= criterion(outputs, labels, tau, h) \n",
    "            loss.backward()\n",
    "            optimizer.step() \n",
    "            epoch_loss+= loss.item()\n",
    "        ls_list.append(epoch_loss/len(trainLoader))\n",
    "\n",
    "        # validation loop\n",
    "        val_loss= 0.0\n",
    "        model.eval()\n",
    "        for inputs, labels in valLoader:\n",
    "            inputs= inputs.to(device)\n",
    "            labels= labels.to(device)\n",
    "            outputs= model(inputs)\n",
    "            loss= criterion3(outputs, labels, tau, h)\n",
    "            val_loss+= loss.item()\n",
    "        valList.append(val_loss/len(valLoader))\n",
    "        print(\"Epoch: {} Training loss: {} Validation loss: {}\".format(epoch, epoch_loss/len(trainLoader), val_loss/len(valLoader)))\n",
    "\n",
    "def trainLBFGS(model, optimizer, criterion, tau, epochs, ls_list, valList):\n",
    "    \"\"\"\n",
    "    Training loop used for LBFGS and conjugate gradient training\n",
    "    \"\"\"\n",
    "    for epoch in range(epochs):\n",
    "        epoch_loss= 0.0\n",
    "        # training loop\n",
    "        model.train()\n",
    "        for inputs, labels in trainLoader: \n",
    "            inputs= inputs.to(device) \n",
    "            labels= labels.to(device)\n",
    "            def closure():\n",
    "                optimizer.zero_grad()\n",
    "                outputs= model(inputs)\n",
    "                loss= criterion(outputs, labels, tau, h)\n",
    "                loss.backward()\n",
    "                return loss\n",
    "            # optimizer.step(closure)\n",
    "            # optimizer.zero_grad() \n",
    "            # outputs= model(inputs) \n",
    "            # loss= criterion(outputs, labels, tau, h) \n",
    "            # loss.backward()\n",
    "            optimizer.step(closure) \n",
    "            # epoch_loss+= loss.item()\n",
    "        # ls_list.append(epoch_loss/len(trainLoader))\n",
    "\n",
    "        # validation loop\n",
    "        val_loss= 0.0\n",
    "        model.eval()\n",
    "        for inputs, labels in valLoader:\n",
    "            inputs= inputs.to(device)\n",
    "            labels= labels.to(device)\n",
    "            outputs= model(inputs)\n",
    "            loss= criterion3(outputs, labels)\n",
    "            val_loss+= loss.item()\n",
    "        valList.append(val_loss/len(valLoader))\n",
    "        print(\"Epoch: {} Training loss: {} Validation loss: {}\".format(epoch, epoch_loss/len(trainLoader), val_loss/len(valLoader)))"
   ]
  },
  {
   "cell_type": "code",
   "execution_count": 24,
   "metadata": {},
   "outputs": [
    {
     "ename": "TypeError",
     "evalue": "forward() takes 3 positional arguments but 5 were given",
     "output_type": "error",
     "traceback": [
      "\u001b[0;31m---------------------------------------------------------------------------\u001b[0m",
      "\u001b[0;31mTypeError\u001b[0m                                 Traceback (most recent call last)",
      "\u001b[0;32m/tmp/ipykernel_4842/2818809237.py\u001b[0m in \u001b[0;36m<module>\u001b[0;34m\u001b[0m\n\u001b[0;32m----> 1\u001b[0;31m \u001b[0mtrainLBFGS\u001b[0m\u001b[0;34m(\u001b[0m\u001b[0mmodel_LBFGS_S\u001b[0m\u001b[0;34m,\u001b[0m \u001b[0moptimizer_LBFGS_S\u001b[0m\u001b[0;34m,\u001b[0m \u001b[0mcriterion\u001b[0m\u001b[0;34m,\u001b[0m \u001b[0mtau\u001b[0m\u001b[0;34m,\u001b[0m  \u001b[0mN_EPOCHS\u001b[0m\u001b[0;34m,\u001b[0m \u001b[0mlossList_LBFGS_S\u001b[0m\u001b[0;34m,\u001b[0m \u001b[0mvalList_LBFGS_S\u001b[0m\u001b[0;34m)\u001b[0m\u001b[0;34m\u001b[0m\u001b[0;34m\u001b[0m\u001b[0m\n\u001b[0m",
      "\u001b[0;32m/tmp/ipykernel_4842/3751824029.py\u001b[0m in \u001b[0;36mtrainLBFGS\u001b[0;34m(model, optimizer, criterion, tau, epochs, ls_list, valList)\u001b[0m\n\u001b[1;32m     63\u001b[0m             \u001b[0mlabels\u001b[0m\u001b[0;34m=\u001b[0m \u001b[0mlabels\u001b[0m\u001b[0;34m.\u001b[0m\u001b[0mto\u001b[0m\u001b[0;34m(\u001b[0m\u001b[0mdevice\u001b[0m\u001b[0;34m)\u001b[0m\u001b[0;34m\u001b[0m\u001b[0;34m\u001b[0m\u001b[0m\n\u001b[1;32m     64\u001b[0m             \u001b[0moutputs\u001b[0m\u001b[0;34m=\u001b[0m \u001b[0mmodel\u001b[0m\u001b[0;34m(\u001b[0m\u001b[0minputs\u001b[0m\u001b[0;34m)\u001b[0m\u001b[0;34m\u001b[0m\u001b[0;34m\u001b[0m\u001b[0m\n\u001b[0;32m---> 65\u001b[0;31m             \u001b[0mloss\u001b[0m\u001b[0;34m=\u001b[0m \u001b[0mcriterion3\u001b[0m\u001b[0;34m(\u001b[0m\u001b[0moutputs\u001b[0m\u001b[0;34m,\u001b[0m \u001b[0mlabels\u001b[0m\u001b[0;34m,\u001b[0m \u001b[0mtau\u001b[0m\u001b[0;34m,\u001b[0m \u001b[0mh\u001b[0m\u001b[0;34m)\u001b[0m\u001b[0;34m\u001b[0m\u001b[0;34m\u001b[0m\u001b[0m\n\u001b[0m\u001b[1;32m     66\u001b[0m             \u001b[0mval_loss\u001b[0m\u001b[0;34m+=\u001b[0m \u001b[0mloss\u001b[0m\u001b[0;34m.\u001b[0m\u001b[0mitem\u001b[0m\u001b[0;34m(\u001b[0m\u001b[0;34m)\u001b[0m\u001b[0;34m\u001b[0m\u001b[0;34m\u001b[0m\u001b[0m\n\u001b[1;32m     67\u001b[0m         \u001b[0mvalList\u001b[0m\u001b[0;34m.\u001b[0m\u001b[0mappend\u001b[0m\u001b[0;34m(\u001b[0m\u001b[0mval_loss\u001b[0m\u001b[0;34m/\u001b[0m\u001b[0mlen\u001b[0m\u001b[0;34m(\u001b[0m\u001b[0mvalLoader\u001b[0m\u001b[0;34m)\u001b[0m\u001b[0;34m)\u001b[0m\u001b[0;34m\u001b[0m\u001b[0;34m\u001b[0m\u001b[0m\n",
      "\u001b[0;32m~/miniconda3/lib/python3.9/site-packages/torch/nn/modules/module.py\u001b[0m in \u001b[0;36m_call_impl\u001b[0;34m(self, *input, **kwargs)\u001b[0m\n\u001b[1;32m   1100\u001b[0m         if not (self._backward_hooks or self._forward_hooks or self._forward_pre_hooks or _global_backward_hooks\n\u001b[1;32m   1101\u001b[0m                 or _global_forward_hooks or _global_forward_pre_hooks):\n\u001b[0;32m-> 1102\u001b[0;31m             \u001b[0;32mreturn\u001b[0m \u001b[0mforward_call\u001b[0m\u001b[0;34m(\u001b[0m\u001b[0;34m*\u001b[0m\u001b[0minput\u001b[0m\u001b[0;34m,\u001b[0m \u001b[0;34m**\u001b[0m\u001b[0mkwargs\u001b[0m\u001b[0;34m)\u001b[0m\u001b[0;34m\u001b[0m\u001b[0;34m\u001b[0m\u001b[0m\n\u001b[0m\u001b[1;32m   1103\u001b[0m         \u001b[0;31m# Do not call functions when jit is used\u001b[0m\u001b[0;34m\u001b[0m\u001b[0;34m\u001b[0m\u001b[0m\n\u001b[1;32m   1104\u001b[0m         \u001b[0mfull_backward_hooks\u001b[0m\u001b[0;34m,\u001b[0m \u001b[0mnon_full_backward_hooks\u001b[0m \u001b[0;34m=\u001b[0m \u001b[0;34m[\u001b[0m\u001b[0;34m]\u001b[0m\u001b[0;34m,\u001b[0m \u001b[0;34m[\u001b[0m\u001b[0;34m]\u001b[0m\u001b[0;34m\u001b[0m\u001b[0;34m\u001b[0m\u001b[0m\n",
      "\u001b[0;31mTypeError\u001b[0m: forward() takes 3 positional arguments but 5 were given"
     ]
    }
   ],
   "source": [
    "trainLBFGS(model_LBFGS_S, optimizer_LBFGS_S, criterion, tau,  N_EPOCHS, lossList_LBFGS_S, valList_LBFGS_S)"
   ]
  },
  {
   "cell_type": "code",
   "execution_count": null,
   "metadata": {},
   "outputs": [],
   "source": [
    "# Calls to training loops themselves:\n",
    "trainConstantLR(model_CLR_S, optimizer_CLR_S, criterion, tau,  N_EPOCHS, lossList_CLR_S, valList_CLR_S)"
   ]
  },
  {
   "cell_type": "code",
   "execution_count": null,
   "metadata": {},
   "outputs": [],
   "source": [
    "trainConstantLR(model_CLR_M, optimizer_CLR_M, criterion, tau, N_EPOCHS, lossList_CLR_M, valList_CLR_M)"
   ]
  },
  {
   "cell_type": "code",
   "execution_count": null,
   "metadata": {},
   "outputs": [],
   "source": [
    "trainConstantLR(model_CLR_L, optimizer_CLR_L, criterion, tau, N_EPOCHS, lossList_CLR_M, valList_CLR_L)"
   ]
  },
  {
   "cell_type": "code",
   "execution_count": null,
   "metadata": {},
   "outputs": [],
   "source": [
    "trainConstantLR(model_CLR_WM, optimizer_CLR_WM, criterion, tau, N_EPOCHS, lossList_CLR_WM, valList_CLR_WM)"
   ]
  },
  {
   "cell_type": "code",
   "execution_count": null,
   "metadata": {},
   "outputs": [],
   "source": [
    "# saving the EPOCH-losses\n",
    "A= np.asarray(lossList_CLR_S)\n",
    "B= np.asarray(lossList_CLR_M)\n",
    "C= np.asarray(lossList_CLR_L)\n",
    "D= np.asarray(lossList_CLR_WM)\n",
    "\n",
    "np.save(\"/home/aryamanj/Downloads/D-GEX_second/lossList_CLR_S.npy\", A)\n",
    "np.save(\"/home/aryamanj/Downloads/D-GEX_second/lossList_CLR_M.npy\", B)\n",
    "np.save(\"/home/aryamanj/Downloads/D-GEX_second/lossList_CLR_L.npy\", C)\n",
    "np.save(\"/home/aryamanj/Downloads/D-GEX_second/lossList_CLR_WM.npy\", D)"
   ]
  },
  {
   "cell_type": "code",
   "execution_count": null,
   "metadata": {},
   "outputs": [],
   "source": [
    "# saving the trained models:\n",
    "torch.save(model_CLR_S.state_dict(), \"/home/aryamanj/Downloads/D-GEX_second/CLR_S.pt\")\n",
    "torch.save(model_CLR_M.state_dict(), \"/home/aryamanj/Downloads/D-GEX_second/CLR_M.pt\")\n",
    "torch.save(model_CLR_L.state_dict(), \"/home/aryamanj/Downloads/D-GEX_second/CLR_L.pt\")\n",
    "torch.save(model_CLR_WM.state_dict(), \"/home/aryamanj/Downloads/D-GEX_second/CLR_WM.pt\")"
   ]
  },
  {
   "cell_type": "markdown",
   "metadata": {},
   "source": [
    "## Instantiations and training loops using adaH as the optimizer algorithm"
   ]
  },
  {
   "cell_type": "code",
   "execution_count": 23,
   "metadata": {},
   "outputs": [],
   "source": [
    "def trainadaH(model, optimizer, criterion, tau, epochs, ls_list, valList):\n",
    "    \"\"\"\n",
    "    Training loop used for adaH\n",
    "    \"\"\"\n",
    "    for epoch in range(epochs):\n",
    "        epoch_loss= 0.0\n",
    "        # training loop\n",
    "        model.train()\n",
    "        for inputs, labels in trainLoader: \n",
    "            inputs= inputs.to(device) \n",
    "            labels= labels.to(device)\n",
    "            optimizer.zero_grad() \n",
    "            outputs= model(inputs) \n",
    "            loss= criterion(outputs, labels, tau, h) \n",
    "            loss.backward(create_graph=True)\n",
    "            _, gradsH = get_params_grad(model)\n",
    "            optimizer.step(gradsH)\n",
    "            epoch_loss+= loss.item()\n",
    "        ls_list.append(epoch_loss/len(trainLoader))\n",
    "\n",
    "        # validation loop\n",
    "        val_loss= 0.0\n",
    "        model.eval()\n",
    "        for inputs, labels in valLoader:\n",
    "            inputs= inputs.to(device)\n",
    "            labels= labels.to(device)\n",
    "            outputs= model(inputs)\n",
    "            loss= criterion(outputs, labels, tau, h)\n",
    "            val_loss+= loss.item()\n",
    "        valList.append(val_loss/len(valLoader))\n",
    "        print(\"Epoch: {} Training-loss: {} Validation loss: {}\".format(epoch,epoch_loss/len(trainLoader), val_loss/len(valLoader)))"
   ]
  },
  {
   "cell_type": "code",
   "execution_count": 24,
   "metadata": {},
   "outputs": [],
   "source": [
    "# instantiating objects for all adaH tests:\n",
    "size1,size2= 300,300\n",
    "model_adaH_S= LALRnetwork(size1, size2, 0.1).to(device)\n",
    "optimizer_adaH_S = Adahessian(model_adaH_S.parameters(),lr=.15)\n",
    "scheduler_adaH_S = lr_scheduler.MultiStepLR(\n",
    "    optimizer_adaH_S,\n",
    "    [30,45],  \n",
    "    gamma=.1,\n",
    "    last_epoch=-1)\n",
    "lossList_adaH_S= []\n",
    "valList_adaH_S= []\n",
    "\n",
    "size1, size2= 1000, 1000\n",
    "model_adaH_M= LALRnetwork(size1, size2, 0.1).to(device)\n",
    "optimizer_adaH_M = Adahessian(model_adaH_M.parameters(),lr=.15)\n",
    "scheduler_adaH_M = lr_scheduler.MultiStepLR(\n",
    "    optimizer_adaH_M,\n",
    "    [30,45],  \n",
    "    gamma=.1,\n",
    "    last_epoch=-1)\n",
    "lossList_adaH_M= []\n",
    "valList_adaH_M= []\n",
    "\n",
    "size1, size2= 3000, 3000\n",
    "model_adaH_L= LALRnetwork(size1, size2, 0.1).to(device)\n",
    "optimizer_adaH_L = Adahessian(model_adaH_L.parameters(),lr=.15)\n",
    "scheduler_adaH_L = lr_scheduler.MultiStepLR(\n",
    "    optimizer_adaH_L,\n",
    "    [30,45],  \n",
    "    gamma=.1,\n",
    "    last_epoch=-1)\n",
    "lossList_adaH_L= []\n",
    "valList_adaH_L= []\n",
    "\n",
    "size1= 2000\n",
    "model_adaH_WM= LALRwideM(size1, 0.1).to(device)\n",
    "optimizer_adaH_WM = Adahessian(model_adaH_WM.parameters(),lr=.15)\n",
    "scheduler_adaH_WM = lr_scheduler.MultiStepLR(\n",
    "    optimizer_adaH_WM,\n",
    "    [30,45],  \n",
    "    gamma=.1,\n",
    "    last_epoch=-1)\n",
    "lossList_adaH_WM= []\n",
    "valList_adaH_WM= []\n"
   ]
  },
  {
   "cell_type": "code",
   "execution_count": null,
   "metadata": {},
   "outputs": [],
   "source": [
    "trainadaH(model_adaH_S, optimizer_adaH_S, criterion, tau, N_EPOCHS, lossList_adaH_S, valList_adaH_S)"
   ]
  },
  {
   "cell_type": "code",
   "execution_count": null,
   "metadata": {},
   "outputs": [],
   "source": [
    "trainadaH(model_adaH_M, optimizer_adaH_M, criterion, tau, N_EPOCHS, lossList_adaH_M, valList_adaH_M)"
   ]
  },
  {
   "cell_type": "code",
   "execution_count": null,
   "metadata": {},
   "outputs": [],
   "source": [
    "trainadaH(model_adaH_L, optimizer_adaH_L, criterion, tau, N_EPOCHS, lossList_adaH_L, valList_adaH_L)"
   ]
  },
  {
   "cell_type": "code",
   "execution_count": null,
   "metadata": {},
   "outputs": [],
   "source": [
    "trainadaH(model_adaH_WM, optimizer_adaH_WM, criterion, tau, N_EPOCHS, lossList_adaH_WM, valList_adaH_WM)"
   ]
  },
  {
   "cell_type": "code",
   "execution_count": null,
   "metadata": {},
   "outputs": [],
   "source": [
    "E= np.asarray(lossList_adaH_S)\n",
    "F_= np.asarray(lossList_adaH_M)\n",
    "G= np.asarray(lossList_adaH_L)\n",
    "H= np.asarray(lossList_adaH_WM)\n",
    "\n",
    "np.save(\"/home/aryamanj/Downloads/D-GEX_second/lossList_adaH_S.npy\", E)\n",
    "np.save(\"/home/aryamanj/Downloads/D-GEX_second/lossList_adaH_M.npy\", F_)\n",
    "np.save(\"/home/aryamanj/Downloads/D-GEX_second/lossList_adaH_L.npy\", G)\n",
    "np.save(\"/home/aryamanj/Downloads/D-GEX_second/lossList_adaH_WM.npy\", H)"
   ]
  },
  {
   "cell_type": "code",
   "execution_count": null,
   "metadata": {},
   "outputs": [],
   "source": [
    "torch.save(model_adaH_S.state_dict(), \"/home/aryamanj/Downloads/D-GEX_second/adaH_S.pt\")\n",
    "torch.save(model_adaH_M.state_dict(), \"/home/aryamanj/Downloads/D-GEX_second/adaH_M.pt\")\n",
    "torch.save(model_adaH_L.state_dict(), \"/home/aryamanj/Downloads/D-GEX_second/adaH_L.pt\")\n",
    "torch.save(model_adaH_WM.state_dict(), \"/home/aryamanj/Downloads/D-GEX_second/adaH_WM.pt\")"
   ]
  },
  {
   "cell_type": "markdown",
   "metadata": {},
   "source": [
    "I see the following steps to incorporating LALR into the code:\n",
    "1. Be able to compute the $K_z$: \n",
    "    * This is defined to be the largest activation in the penultimate layer\n",
    "    * Hence, our network needs a method that allows us to obtain it's penultimate output and then simply take a supremum over it \n",
    "2. For now, a possible LC of the log-cosh seems to be just the same as for the check, namely, $\\frac{K_z}{m}\\times \\max(\\tau, 1-\\tau)$ -- these kinds of LC's are all expressable in the form: $C.\\frac{K_z}{m}$ (where C is some constant which we know)\n",
    "\n",
    "The next expression that we want to try out, is: $\\frac{1}{m}\\tanh(g(0)-y_k).K_z: \\text{ } z_k^{[L]}=0$, or, exploiting the continuity of the regression problem, we can also write: $\\frac{1}{m}\\tanh(g(0)-y_k).K_z,\\text{ where: } k= \\argmin_j z_j^{[L]}$\n",
    "\n",
    "Hence, for implementing the above expression in addition to the penultimate function, we also need access to the set of pre-activation values, and be able to compute the $\\argmin$ from among them, since in this network, we do not have any activation function acting on the final layer, we can just compute the minimum feature in the final layer"
   ]
  },
  {
   "cell_type": "code",
   "execution_count": 35,
   "metadata": {},
   "outputs": [],
   "source": [
    "# writing training loop for networks with LALR\n",
    "def train_adaptive_lr(model,optimizer, criterion, tau, epochs, ls_list, valList):\n",
    "    \"\"\"\n",
    "    Training loop used for LALR training\n",
    "    \"\"\"\n",
    "    for epoch in range(epochs):\n",
    "        epoch_loss= 0.0\n",
    "        lr_val= computeLR(model, bSize=16)\n",
    "        optimizer.param_groups[0]['lr']= lr_val\n",
    "        # training loop\n",
    "        model.train()\n",
    "        for inputs, labels in trainLoader: \n",
    "            inputs= inputs.to(device) \n",
    "            labels= labels.to(device)\n",
    "            optimizer.zero_grad() \n",
    "            outputs= model(inputs) \n",
    "            loss= criterion(outputs, labels, tau, h) \n",
    "            loss.backward() \n",
    "            optimizer.step() \n",
    "            epoch_loss+= loss.item()\n",
    "        ls_list.append(epoch_loss/len(trainLoader))\n",
    "\n",
    "        # validation loop\n",
    "        val_loss= 0.0\n",
    "        model.eval()\n",
    "        for inputs, labels in valLoader:\n",
    "            inputs= inputs.to(device)\n",
    "            labels= labels.to(device)\n",
    "            outputs= model(inputs)\n",
    "            loss= criterion(outputs, labels, tau, h)\n",
    "            val_loss+= loss.item()\n",
    "        valList.append(val_loss/len(valLoader))\n",
    "        print(\"Epoch: {} Training Loss: {} Validation loss: {} LR: {}\".format(epoch, epoch_loss/len(trainLoader), val_loss/len(valLoader), optimizer.param_groups[0]['lr']))\n",
    "\n",
    "\n",
    "def computeLR(model, bSize= 16):\n",
    "    \"\"\"\n",
    "    Takes in a network of the LALRnetwork class(during some arbitrary EPOCH of training) and the current input, and returns Kz for the EPOCH\n",
    "    \"\"\"\n",
    "    Kz = 0.0\n",
    "    z_k= 0.0\n",
    "    model.eval()\n",
    "    with torch.no_grad():\n",
    "        for i,j in enumerate(trainLoader):\n",
    "            inputs,labels= j[0],j[1]\n",
    "            inputs= inputs.to(device)\n",
    "            labels= labels.to(device)\n",
    "            op1= model.penU(inputs)\n",
    "            op2= model(inputs)\n",
    "            # first taking the max and min for each batch\n",
    "            activ1, arg1= torch.max(op1, dim= 1)\n",
    "            activ2, arg2= torch.min(op2, dim= 1)\n",
    "            # now, we take the max and min across batches\n",
    "            val1, indx1= torch.max(activ1, dim= 0)\n",
    "            val2, indx2= torch.min(activ2, dim= 0)\n",
    "            # print(indx, i)\n",
    "            if val1 > Kz:\n",
    "                # in the case of K_z, we do not need the index where the max occurs, hence only deal with the value\n",
    "                Kz= val1 \n",
    "            z_k= val2\n",
    "            argMin= arg2[indx2]\n",
    "    print(int(indx2), int(argMin))\n",
    "\n",
    "    LR= (1/bSize)*torch.tanh(-op2[int(indx2)][int(argMin)])*Kz\n",
    "    if LR==0:\n",
    "        return 0.1\n",
    "    return 1/LR"
   ]
  },
  {
   "cell_type": "code",
   "execution_count": 36,
   "metadata": {},
   "outputs": [],
   "source": [
    "# instantiating LALR models\n",
    "model_lr_1= LALRnetwork(size1=300, size2=300, drop=0.1).to(device)\n",
    "optimizer_lr_1= optim.SGD(model_lr_1.parameters(), lr= 0.1)\n",
    "loss_list_lr_1= []\n",
    "valList_LR_S= []\n",
    "\n",
    "model_lr_2= LALRnetwork(size1=1000, size2=1000, drop=0.1).to(device)\n",
    "optimizer_lr_2= optim.SGD(model_lr_2.parameters(), lr= 0.1)\n",
    "loss_list_lr_2= []\n",
    "valList_LR_M= []\n",
    "\n",
    "model_lr_3= LALRnetwork(size1=3000, size2=3000, drop=0.1).to(device)\n",
    "optimizer_lr_3= optim.SGD(model_lr_3.parameters(), lr= 0.1)\n",
    "loss_list_lr_3= []\n",
    "valList_LR_L= []\n",
    "\n",
    "\n",
    "model_lr_4= LALRwideM(size1=2000, drop=0.1).to(device)\n",
    "optimizer_lr_4= optim.SGD(model_lr_4.parameters(), lr= 0.1)\n",
    "loss_list_lr_4= []\n",
    "valList_LR_WM= []"
   ]
  },
  {
   "cell_type": "code",
   "execution_count": null,
   "metadata": {},
   "outputs": [],
   "source": [
    "train_adaptive_lr(model_lr_1,optimizer_lr_1, criterion, tau, N_EPOCHS, loss_list_lr_1, valList_LR_S)"
   ]
  },
  {
   "cell_type": "code",
   "execution_count": null,
   "metadata": {},
   "outputs": [],
   "source": [
    "train_adaptive_lr(model_lr_2,optimizer_lr_2, criterion, tau, N_EPOCHS, loss_list_lr_2, valList_LR_M)"
   ]
  },
  {
   "cell_type": "code",
   "execution_count": null,
   "metadata": {},
   "outputs": [],
   "source": [
    "train_adaptive_lr(model_lr_3, optimizer_lr_3, criterion, tau, N_EPOCHS, loss_list_lr_3, valList_LR_L)"
   ]
  },
  {
   "cell_type": "code",
   "execution_count": null,
   "metadata": {},
   "outputs": [],
   "source": [
    "train_adaptive_lr(model_lr_4, optimizer_lr_4, criterion, tau, N_EPOCHS, loss_list_lr_4, valList_LR_WM)"
   ]
  },
  {
   "cell_type": "code",
   "execution_count": null,
   "metadata": {},
   "outputs": [],
   "source": [
    "H= np.asarray(loss_list_lr_1)\n",
    "I= np.asarray(loss_list_lr_2)\n",
    "J= np.asarray(loss_list_lr_3)\n",
    "K= np.asarray(loss_list_lr_4)\n",
    "\n",
    "np.save(\"/home/aryamanj/Downloads/D-GEX_second/lossList_LR_S.npy\", H)\n",
    "np.save(\"/home/aryamanj/Downloads/D-GEX_second/lossList_LR_M.npy\", I)\n",
    "np.save(\"/home/aryamanj/Downloads/D-GEX_second/lossList_LR_L.npy\", J)\n",
    "np.save(\"/home/aryamanj/Downloads/D-GEX_second/lossList_LR_WM.npy\", K)"
   ]
  },
  {
   "cell_type": "code",
   "execution_count": null,
   "metadata": {},
   "outputs": [],
   "source": [
    "torch.save(model_lr_1.state_dict(), \"/home/aryamanj/Downloads/D-GEX_second/LR_S.pt\")\n",
    "torch.save(model_lr_2.state_dict(), \"/home/aryamanj/Downloads/D-GEX_second/LR_M.pt\")\n",
    "torch.save(model_lr_3.state_dict(), \"/home/aryamanj/Downloads/D-GEX_second/LR_L.pt\")\n",
    "torch.save(model_lr_4.state_dict(), \"/home/aryamanj/Downloads/D-GEX_second/LR_WM.pt\")\n"
   ]
  }
 ],
 "metadata": {
  "interpreter": {
   "hash": "f631849613479c9658f644ddf8baf1a688d5be660ada6c6034305de03a8a6229"
  },
  "kernelspec": {
   "display_name": "Python 3.9.5 64-bit ('base': conda)",
   "language": "python",
   "name": "python3"
  },
  "language_info": {
   "codemirror_mode": {
    "name": "ipython",
    "version": 3
   },
   "file_extension": ".py",
   "mimetype": "text/x-python",
   "name": "python",
   "nbconvert_exporter": "python",
   "pygments_lexer": "ipython3",
   "version": "3.9.7"
  },
  "orig_nbformat": 4
 },
 "nbformat": 4,
 "nbformat_minor": 2
}
