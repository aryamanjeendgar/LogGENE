{
 "cells": [
  {
   "cell_type": "code",
   "execution_count": 72,
   "source": [
    "import torch\n",
    "import torch.nn as nn\n",
    "import torch.nn.functional as F\n",
    "from torch import optim\n",
    "import matplotlib.pyplot as plt\n",
    "\n",
    "import UCI_loader\n",
    "import importlib"
   ],
   "outputs": [],
   "metadata": {}
  },
  {
   "cell_type": "code",
   "execution_count": 73,
   "source": [
    "# network class\n",
    "class Network(nn.Module):\n",
    "    def __init__(self, indim):\n",
    "        super(Network,self).__init__()\n",
    "        self.l1 = nn.Linear(indim,100)\n",
    "        self.l2 = nn.Linear(100,50)\n",
    "        self.l3 = nn.Linear(50,2) \n",
    "        \n",
    "    def forward(self,x):\n",
    "        x = F.leaky_relu(self.l1(x))\n",
    "        x = F.leaky_relu(self.l2(x))\n",
    "        x = self.l3(x)\n",
    "        return x\n",
    "\n",
    "def tiltedLC(x, y, tau, h):\n",
    "    e= y-x # errors\n",
    "    ind= (torch.sign(e)+1)/2 # the division in the log-cosh is only about the origin\n",
    "    quantFactor= (1-tau)*(1-ind) + tau*ind\n",
    "    loss= quantFactor*torch.log(torch.cosh(e/h))\n",
    "    loss= torch.mean(loss)*h\n",
    "    return loss\n",
    "\n",
    "def check_loss(x, y, tau): # the x,*args way to pass arguments to this function is an idiom for the scipy.optimize() library y = args[0][0]\n",
    "    e = y-x\n",
    "    ind = (torch.sign(-e)+1)/2\n",
    "    loss = torch.mean(e*(tau-ind))\n",
    "    return loss\n",
    "\n",
    "class TiltedLC(nn.Module):\n",
    "    def __init__(self):\n",
    "        super(TiltedLC, self).__init__()\n",
    "    def forward(self, x, y, tau, h):\n",
    "        return tiltedLC(x, y, tau, h)\n",
    "\n",
    "\n",
    "class CheckLC(nn.Module):\n",
    "    def __init__(self):\n",
    "        super(CheckLC, self).__init__()\n",
    "    def forward(self, x, y, tau):\n",
    "        return check_loss(x, y, tau)\n",
    "\n",
    "# Getting the data\n",
    "importlib.reload(UCI_loader)\n",
    "data= UCI_loader.UCIDatasets(\"energy\") \n",
    "train_data= data.get_split()\n",
    "test_data= data.get_split(train=False)\n",
    "\n",
    "\n",
    "# instantiating the network for training on this dataset\n",
    "device = ('cuda' if torch.cuda.is_available() else 'cpu')\n",
    "model= Network(indim=8).to(device=device)\n",
    "tau= 0.5\n",
    "h= 0.1\n",
    "\n",
    "criterion1= TiltedLC()\n",
    "criterion2= CheckLC()\n",
    "optimizer= optim.Adam(model.parameters())\n",
    "ls_a= []\n",
    "ls_b= []"
   ],
   "outputs": [],
   "metadata": {}
  },
  {
   "cell_type": "code",
   "execution_count": 74,
   "source": [
    "# the fundamental training loop\n",
    " # instantiating the DataLoader\n",
    "trainloader = torch.utils.data.DataLoader(\n",
    "                    train_data,\n",
    "                    batch_size=16,\n",
    "                    shuffle=True)\n",
    "N_EPOCHS = 10\n",
    "for epoch in range(N_EPOCHS): \n",
    "    epoch_loss1 = 0.0\n",
    "    for inputs, labels in trainloader:\n",
    "        inputs = inputs.to(device) \n",
    "        labels = labels.to(device)\n",
    "        optimizer.zero_grad() \n",
    "        outputs = model(inputs) \n",
    "        loss1= criterion1(outputs, labels, tau, h) \n",
    "        loss1.backward() \n",
    "        optimizer.step() \n",
    "        epoch_loss1+= loss1.item() \n",
    "    ls_a.append(epoch_loss1/len(trainloader))\n",
    "    print(\"Epoch: {} Loss: {}\".format(epoch,\n",
    "           epoch_loss1/len(trainloader)))"
   ],
   "outputs": [
    {
     "output_type": "stream",
     "name": "stdout",
     "text": [
      "Epoch: 0 Loss: 0.22108007717708295\n",
      "Epoch: 1 Loss: 0.08386559975968505\n",
      "Epoch: 2 Loss: 0.07984467870979146\n",
      "Epoch: 3 Loss: 0.07480643909763206\n",
      "Epoch: 4 Loss: 0.072345423723825\n",
      "Epoch: 5 Loss: 0.07023836325176737\n",
      "Epoch: 6 Loss: 0.06746367271989584\n",
      "Epoch: 7 Loss: 0.06582603573968465\n",
      "Epoch: 8 Loss: 0.06342427280138839\n",
      "Epoch: 9 Loss: 0.06152072007005865\n"
     ]
    }
   ],
   "metadata": {}
  },
  {
   "cell_type": "code",
   "execution_count": 75,
   "source": [
    "for epoch in range(N_EPOCHS): \n",
    "    epoch_loss2 = 0.0\n",
    "    for inputs, labels in trainloader:\n",
    "        inputs = inputs.to(device) \n",
    "        labels = labels.to(device)\n",
    "        optimizer.zero_grad() \n",
    "        outputs = model(inputs) \n",
    "        loss2= criterion2(outputs, labels, tau)\n",
    "        loss2.backward() \n",
    "        optimizer.step() \n",
    "        epoch_loss2+= loss2.item() \n",
    "    ls_b.append(epoch_loss2/len(trainloader))\n",
    "    print(\"Epoch: {} Loss: {}\".format(epoch,\n",
    "           epoch_loss2/len(trainloader)))"
   ],
   "outputs": [
    {
     "output_type": "stream",
     "name": "stdout",
     "text": [
      "Epoch: 0 Loss: 0.08558289423076944\n",
      "Epoch: 1 Loss: 0.08384346411648122\n",
      "Epoch: 2 Loss: 0.07831008097326214\n",
      "Epoch: 3 Loss: 0.07480453572828662\n",
      "Epoch: 4 Loss: 0.0750468901612542\n",
      "Epoch: 5 Loss: 0.07547562967308542\n",
      "Epoch: 6 Loss: 0.07197858731855046\n",
      "Epoch: 7 Loss: 0.06879337800836022\n",
      "Epoch: 8 Loss: 0.07128839651969346\n",
      "Epoch: 9 Loss: 0.06468191565099088\n"
     ]
    }
   ],
   "metadata": {}
  },
  {
   "cell_type": "code",
   "execution_count": 84,
   "source": [
    "plt.plot(range(N_EPOCHS), ls_a) # log-cosh\n",
    "# plt.plot(range(N_EPOCHS), ls_b) # check"
   ],
   "outputs": [
    {
     "output_type": "execute_result",
     "data": {
      "text/plain": [
       "[<matplotlib.lines.Line2D at 0x7f76381d51f0>]"
      ]
     },
     "metadata": {},
     "execution_count": 84
    },
    {
     "output_type": "display_data",
     "data": {
      "image/png": "[encoded data removed]",
      "text/plain": [
       "<Figure size 432x288 with 1 Axes>"
      ]
     },
     "metadata": {
      "needs_background": "light"
     }
    }
   ],
   "metadata": {}
  }
 ],
 "metadata": {
  "orig_nbformat": 4,
  "language_info": {
   "name": "python",
   "version": "3.9.5",
   "mimetype": "text/x-python",
   "codemirror_mode": {
    "name": "ipython",
    "version": 3
   },
   "pygments_lexer": "ipython3",
   "nbconvert_exporter": "python",
   "file_extension": ".py"
  },
  "kernelspec": {
   "name": "python3",
   "display_name": "Python 3.9.5 64-bit ('base': conda)"
  },
  "interpreter": {
   "hash": "6aac0f8b59c440fe53209fa4fafabace38fed25a653401172dea19fc00731209"
  }
 },
 "nbformat": 4,
 "nbformat_minor": 2
}