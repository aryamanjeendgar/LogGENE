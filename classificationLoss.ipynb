{
 "cells": [
  {
   "cell_type": "markdown",
   "metadata": {},
   "source": [
    "## Contains a multi-quantile implementation of the sBQR loss"
   ]
  },
  {
   "cell_type": "code",
   "execution_count": 2,
   "metadata": {},
   "outputs": [],
   "source": [
    "import numpy as np\n",
    "import pandas as pd\n",
    "import math\n",
    "import os\n",
    "import torch\n",
    "import torch.nn.functional as F\n",
    "import torch.nn as nn\n",
    "from torch import optim\n",
    "from adahessian import Adahessian, get_params_grad\n",
    "import torch.optim.lr_scheduler as lr_scheduler"
   ]
  },
  {
   "cell_type": "code",
   "execution_count": null,
   "metadata": {},
   "outputs": [],
   "source": [
    "def barePDF(x, tau):\n",
    "    # x is a torch tensor, tau is a float\n",
    "    ind= (torch.sign(x)+1)/2 # mask about the origin\n",
    "    quantFactor= (1-tau)*(1-ind) + tau*ind\n",
    "    return 2/math.pi*torch.cosh(x).pow_(-1)*quantFactor\n",
    "\n",
    "def bareCDF(yhat, tau):\n",
    "    # yhat is a torch tensor, tau is a float\n",
    "    ind= (torch.sign(yhat)+1)/2 # mask about the origin\n",
    "    quantFactor= (1-tau)*(1-ind) + tau*ind\n",
    "    return tau+4*quantFactor/math.pi*torch.atan(torch.tanh(yhat/2))\n",
    "\n",
    "def quantilePDF(x, qs):\n",
    "    # x is a torch tensor, qs is a list of floats\n",
    "    quantilePDs= []\n",
    "    for q in qs:\n",
    "        quantilePDs.append(barePDF(x, q))\n",
    "    return quantilePDs\n",
    "\n",
    "def quantileCDF(yhat, qs):\n",
    "    # yhat is a torch tensor, qs is a list of floats\n",
    "    quantileCDs= []\n",
    "    for q in qs:\n",
    "        quantileCDs.append(bareCDF(yhat, q))\n",
    "    return quantileCDs \n",
    "\n",
    "def baresBQR(y, yhat, tau):\n",
    "    # y and yhat are torch tensors, tau is a float\n",
    "    return y*torch.log(1-bareCDF(yhat, tau))+(1-y)*torch.log(bareCDF(yhat, tau))\n",
    "\n",
    "def sBQR(y, yhat, qs):\n",
    "    # y and yhat are torch tensors and qs is a list of floats\n",
    "    quantilesBQRs= []\n",
    "    for q in qs:\n",
    "        quantilesBQRs.append(baresBQR(y, yhat, q))\n",
    "    return quantilesBQRs\n",
    "\n",
    "class sBQRL(nn.Module):\n",
    "    def __init__(self):\n",
    "        super(sBQRL, self).__init__()\n",
    "    \n",
    "    def forward(self, y, yhat, qs):\n",
    "        return torch.mean(torch.cat(sBQR(y, yhat, qs)))"
   ]
  }
 ],
 "metadata": {
  "interpreter": {
   "hash": "f631849613479c9658f644ddf8baf1a688d5be660ada6c6034305de03a8a6229"
  },
  "kernelspec": {
   "display_name": "Python 3.9.5 64-bit ('base': conda)",
   "language": "python",
   "name": "python3"
  },
  "language_info": {
   "codemirror_mode": {
    "name": "ipython",
    "version": 3
   },
   "file_extension": ".py",
   "mimetype": "text/x-python",
   "name": "python",
   "nbconvert_exporter": "python",
   "pygments_lexer": "ipython3",
   "version": "3.9.5"
  },
  "orig_nbformat": 4
 },
 "nbformat": 4,
 "nbformat_minor": 2
}
