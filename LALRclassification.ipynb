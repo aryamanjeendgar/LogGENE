{
 "cells": [
  {
   "cell_type": "markdown",
   "metadata": {
    "collapsed": false
   },
   "source": [
    "## LALR testing for sBQC loss"
   ]
  },
  {
   "cell_type": "code",
   "execution_count": 4,
   "metadata": {
    "collapsed": false
   },
   "outputs": [],
   "source": [
    "#My imports\n",
    "import numpy as np\n",
    "import pandas as pd\n",
    "import os\n",
    "import torch\n",
    "import torch.nn.functional as F\n",
    "import torch.nn as nn\n",
    "from torch import optim\n",
    "from adahessian import Adahessian, get_params_grad\n",
    "import torch.optim.lr_scheduler as lr_scheduler\n",
    "import math\n",
    "from sklearn.metrics import cohen_kappa_score\n",
    "from sklearn.metrics import jaccard_score\n",
    "from sklearn.metrics import f1_score\n",
    "\n",
    "# Other imports\n",
    "from sklearn.model_selection import train_test_split\n",
    "from sklearn.preprocessing import StandardScaler\n",
    "from sklearn.metrics import auc\n",
    "import torch\n",
    "import torch.nn as nn\n",
    "import torch.nn.functional as F\n",
    "from torch.autograd import Variable\n",
    "import torch.utils.data as data_utils\n",
    "\n",
    "import warnings\n",
    "import matplotlib.pyplot as plt\n",
    "# import shap\n"
   ]
  },
  {
   "cell_type": "code",
   "execution_count": 5,
   "metadata": {
    "collapsed": false
   },
   "outputs": [],
   "source": [
    "# Loss function code:\n",
    "\n",
    "def bareCDF(yhat, tau):\n",
    "    # yhat is a torch tensor, tau is a float\n",
    "    ind= (torch.sign(yhat)+1)/2 # mask about the origin\n",
    "    quantFactor= (1-tau)*ind + tau*(1-ind)\n",
    "    val= tau+4*quantFactor/math.pi*torch.atan(torch.tanh(yhat/2))\n",
    "    # print(\"bareCDF val: {}\".format(val))\n",
    "    return val\n",
    "\n",
    "def baresBQR(y, yhat, tau):\n",
    "    # y and yhat are torch tensors, tau is a float\n",
    "    val= torch.matmul(y,torch.log(1-bareCDF(yhat, tau)))+ torch.matmul((1-y),torch.log(bareCDF(yhat, tau)))\n",
    "    # print(\"bareBQR val: {}\".format(val))\n",
    "    return val\n",
    "\n",
    "class sBQRL(nn.Module):\n",
    "    def __init__(self):\n",
    "        super(sBQRL, self).__init__()\n",
    "    \n",
    "    def forward(self, y, yhat, tau):\n",
    "        return baresBQR(y, yhat, tau)\n"
   ]
  },
  {
   "cell_type": "code",
   "execution_count": 359,
   "metadata": {
    "collapsed": false
   },
   "outputs": [
    {
     "ename": "IndexError",
     "evalue": "list index out of range",
     "output_type": "error",
     "traceback": [
      "\u001b[0;31m---------------------------------------------------------------------------\u001b[0m",
      "\u001b[0;31mIndexError\u001b[0m                                Traceback (most recent call last)",
      "\u001b[0;32m/tmp/ipykernel_2744/1411682212.py\u001b[0m in \u001b[0;36m<module>\u001b[0;34m\u001b[0m\n\u001b[1;32m     59\u001b[0m \u001b[0;34m\u001b[0m\u001b[0m\n\u001b[1;32m     60\u001b[0m \u001b[0;31m###\u001b[0m\u001b[0;34m\u001b[0m\u001b[0;34m\u001b[0m\u001b[0;34m\u001b[0m\u001b[0m\n\u001b[0;32m---> 61\u001b[0;31m \u001b[0mX_train\u001b[0m\u001b[0;34m,\u001b[0m\u001b[0mX_val\u001b[0m\u001b[0;34m,\u001b[0m\u001b[0my_train\u001b[0m\u001b[0;34m,\u001b[0m\u001b[0my_val\u001b[0m\u001b[0;34m,\u001b[0m \u001b[0mdata_Y\u001b[0m\u001b[0;34m,\u001b[0m \u001b[0mdata_X_scaled\u001b[0m\u001b[0;34m,\u001b[0m \u001b[0mdata_X_unscaled\u001b[0m \u001b[0;34m=\u001b[0m \u001b[0mcreate_xy\u001b[0m\u001b[0;34m(\u001b[0m\u001b[0mdataset\u001b[0m\u001b[0;34m,\u001b[0m \u001b[0mx_cols\u001b[0m\u001b[0;34m,\u001b[0m \u001b[0my_col\u001b[0m\u001b[0;34m,\u001b[0m \u001b[0mseparator\u001b[0m\u001b[0;34m,\u001b[0m \u001b[0;36m0.4\u001b[0m\u001b[0;34m,\u001b[0m \u001b[0mditch_head\u001b[0m\u001b[0;34m=\u001b[0m \u001b[0mremove_head\u001b[0m\u001b[0;34m)\u001b[0m\u001b[0;34m\u001b[0m\u001b[0;34m\u001b[0m\u001b[0m\n\u001b[0m\u001b[1;32m     62\u001b[0m \u001b[0mshap_x_train\u001b[0m \u001b[0;34m=\u001b[0m \u001b[0mX_train\u001b[0m\u001b[0;34m.\u001b[0m\u001b[0mcopy\u001b[0m\u001b[0;34m(\u001b[0m\u001b[0;34m)\u001b[0m\u001b[0;34m\u001b[0m\u001b[0;34m\u001b[0m\u001b[0m\n\u001b[1;32m     63\u001b[0m \u001b[0mshap_x_val\u001b[0m \u001b[0;34m=\u001b[0m \u001b[0mX_val\u001b[0m\u001b[0;34m.\u001b[0m\u001b[0mcopy\u001b[0m\u001b[0;34m(\u001b[0m\u001b[0;34m)\u001b[0m\u001b[0;34m\u001b[0m\u001b[0;34m\u001b[0m\u001b[0m\n",
      "\u001b[0;32m/tmp/ipykernel_2744/1411682212.py\u001b[0m in \u001b[0;36mcreate_xy\u001b[0;34m(dataset, attribute_columns, target_column, delim, split_ratio, ditch_head)\u001b[0m\n\u001b[1;32m     46\u001b[0m             \u001b[0mpoint\u001b[0m\u001b[0;34m.\u001b[0m\u001b[0mappend\u001b[0m\u001b[0;34m(\u001b[0m\u001b[0mfloat\u001b[0m\u001b[0;34m(\u001b[0m\u001b[0mall_columns\u001b[0m\u001b[0;34m[\u001b[0m\u001b[0mi\u001b[0m\u001b[0;34m]\u001b[0m\u001b[0;34m)\u001b[0m\u001b[0;34m)\u001b[0m\u001b[0;34m\u001b[0m\u001b[0;34m\u001b[0m\u001b[0m\n\u001b[1;32m     47\u001b[0m         \u001b[0mX\u001b[0m\u001b[0;34m.\u001b[0m\u001b[0mappend\u001b[0m\u001b[0;34m(\u001b[0m\u001b[0mpoint\u001b[0m\u001b[0;34m)\u001b[0m\u001b[0;34m\u001b[0m\u001b[0;34m\u001b[0m\u001b[0m\n\u001b[0;32m---> 48\u001b[0;31m         \u001b[0mY\u001b[0m\u001b[0;34m.\u001b[0m\u001b[0mappend\u001b[0m\u001b[0;34m(\u001b[0m\u001b[0mfloat\u001b[0m\u001b[0;34m(\u001b[0m\u001b[0mall_columns\u001b[0m\u001b[0;34m[\u001b[0m\u001b[0mtarget_column\u001b[0m\u001b[0;34m]\u001b[0m\u001b[0;34m)\u001b[0m\u001b[0;34m)\u001b[0m\u001b[0;34m\u001b[0m\u001b[0;34m\u001b[0m\u001b[0m\n\u001b[0m\u001b[1;32m     49\u001b[0m     \u001b[0mX_arr\u001b[0m \u001b[0;34m=\u001b[0m \u001b[0mnp\u001b[0m\u001b[0;34m.\u001b[0m\u001b[0masarray\u001b[0m\u001b[0;34m(\u001b[0m\u001b[0mX\u001b[0m\u001b[0;34m)\u001b[0m\u001b[0;34m\u001b[0m\u001b[0;34m\u001b[0m\u001b[0m\n\u001b[1;32m     50\u001b[0m     \u001b[0mX_unscaled\u001b[0m \u001b[0;34m=\u001b[0m \u001b[0mnp\u001b[0m\u001b[0;34m.\u001b[0m\u001b[0masarray\u001b[0m\u001b[0;34m(\u001b[0m\u001b[0mX\u001b[0m\u001b[0;34m)\u001b[0m\u001b[0;34m\u001b[0m\u001b[0;34m\u001b[0m\u001b[0m\n",
      "\u001b[0;31mIndexError\u001b[0m: list index out of range"
     ]
    }
   ],
   "source": [
    "dataset= \"./Datasets/Classification/ILP.csv\"\n",
    "x_cols = list(range(10))\n",
    "y_col = 10\n",
    "separator = \",\"\n",
    "\n",
    "\n",
    "\n",
    "\n",
    "\n",
    "\n",
    "\n",
    "\n",
    "\n",
    "\n",
    "\n",
    "\n",
    "# attribute_index =   # This controls which attribute is allowed to vary, 7,5\n",
    "attribute_name = \"BMI\" # Name of the attribute, used in the plots, max heart rate\n",
    "latent_name = \"Diabetes\" # Name of the function, used in the plots\n",
    "# The other attributes are replaced by the median value of the attribute\n",
    "Scaler= StandardScaler()\n",
    "batch_is= 64\n",
    "\n",
    "total_epochs = 20\n",
    "\n",
    "### \n",
    "def create_xy(dataset, attribute_columns, target_column, delim, split_ratio, ditch_head=True):\n",
    "    with open(dataset, 'r') as f:\n",
    "        lines = f.readlines()\n",
    "    if ditch_head:\n",
    "        lines = lines[1:]\n",
    "    X = []\n",
    "    Y = []\n",
    "    for line in lines:\n",
    "        while len(line) > 0 and line[-1] == \"\\n\":\n",
    "            line = line[:len(line)-1]\n",
    "        split_array = line.split(delim)\n",
    "        all_columns = []\n",
    "        for value in split_array:\n",
    "            if value !=\"\" and value !=\" \":\n",
    "                all_columns.append(value)\n",
    "        if len(all_columns)==0:\n",
    "            break\n",
    "        point = []\n",
    "        for i in attribute_columns:\n",
    "            point.append(float(all_columns[i]))\n",
    "        X.append(point)\n",
    "        Y.append(float(all_columns[target_column]))\n",
    "    X_arr = np.asarray(X)\n",
    "    X_unscaled = np.asarray(X)\n",
    "    Scaler.fit(X_arr)\n",
    "    X_arr = Scaler.transform(X_arr)\n",
    "    Y_arr = np.asarray(Y)\n",
    "    thresh = 0\n",
    "    Y_arr_binary = np.where(Y_arr<=thresh,0,1)\n",
    "    unique, counts = np.unique(Y_arr_binary, return_counts=True)\n",
    "    x_train, x_test, y_train, y_test = train_test_split(X_arr, Y_arr_binary, test_size = split_ratio)\n",
    "    return x_train, x_test, y_train, y_test, Y_arr, X_arr, X_unscaled\n",
    "\n",
    "###\n",
    "X_train,X_val,y_train,y_val, data_Y, data_X_scaled, data_X_unscaled = create_xy(dataset, x_cols, y_col, separator, 0.4, ditch_head= remove_head)\n",
    "shap_x_train = X_train.copy()\n",
    "shap_x_val = X_val.copy()\n",
    "X_train = torch.Tensor(X_train)\n",
    "y_train = torch.Tensor(y_train)\n",
    "# y_train= F.one_hot(y_train.to(torch.int64), num_classes=2)\n",
    "X_val = torch.Tensor(X_val)\n",
    "y_val = torch.Tensor(y_val)\n",
    "# y_val= F.one_hot(y_val.to(torch.int64), num_classes=2)\n",
    "train_dataset = data_utils.TensorDataset(X_train, y_train)\n",
    "test_dataset = data_utils.TensorDataset(X_val, y_val)\n",
    "train_loader = data_utils.DataLoader(train_dataset, batch_size =batch_is, pin_memory=True,shuffle=True,num_workers = 1)\n",
    "test_loader = data_utils.DataLoader(test_dataset,batch_size =batch_is,pin_memory=True,shuffle = False,num_workers = 1)"
   ]
  },
  {
   "cell_type": "code",
   "execution_count": 331,
   "metadata": {
    "collapsed": false
   },
   "outputs": [],
   "source": [
    "# Network definition:\n",
    "class LALRnetwork(nn.Module):\n",
    "    def __init__(self, indim):\n",
    "        super(LALRnetwork,self).__init__()\n",
    "        self.l1 = nn.Linear(indim,100)\n",
    "        self.l2 = nn.Linear(100,10)\n",
    "        self.l3 = nn.Linear(10,1)\n",
    "        \n",
    "    def forward(self,x):\n",
    "        x = F.tanh(self.l1(x))\n",
    "        x = F.tanh(self.l2(x))\n",
    "        # x = F.softmax(self.l3(x))\n",
    "        x = F.sigmoid(self.l3(x))\n",
    "        # x= torch.sign(x-torch.ones_like(x)*0.5)\n",
    "        # x= (x+torch.ones_like(x))/2\n",
    "        return x\n",
    "    \n",
    "    # Used in LALR\n",
    "    def penU(self, x):\n",
    "        op = F.tanh(self.l1(x))\n",
    "        op = F.tanh(self.l2(op))\n",
    "        return op\n"
   ]
  },
  {
   "cell_type": "code",
   "execution_count": 332,
   "metadata": {
    "collapsed": false
   },
   "outputs": [],
   "source": [
    "# Global initialisations:\n",
    "device= ('cuda' if torch.cuda.is_available() else 'cpu')\n",
    "indim = X_train.shape[1]\n",
    "modelLALR_sBQC = LALRnetwork(indim).to(device)\n",
    "modelCLR_sBQC= LALRnetwork(indim).to(device)\n",
    "modelLALR_BCE= LALRnetwork(indim).to(device)\n",
    "modelCLR_BCE= LALRnetwork(indim).to(device)\n",
    "modelLBFGS_sBQC = LALRnetwork(indim).to(device)\n",
    "\n",
    "criterion= sBQRL()\n",
    "criterion_= nn.BCELoss()\n",
    "h= 0.4\n",
    "lr_is = 1e-2\n",
    "optimizerLALR_sBQC= torch.optim.Adam(modelLALR_sBQC.parameters(), lr = lr_is)\n",
    "optimizerLALR_BCE= torch.optim.Adam(modelLALR_BCE.parameters(), lr = lr_is)\n",
    "optimizerCLR_sBQC= torch.optim.Adam(modelCLR_sBQC.parameters(), lr = lr_is)\n",
    "optimizerCLR_BCE= torch.optim.Adam(modelCLR_BCE.parameters(), lr = lr_is)\n",
    "optimizerLBFGS_sBQC= torch.optim.LBFGS(modelLBFGS_sBQC.parameters(), lr = lr_is)\n",
    "\n",
    "all_qs = [0.1,0.2,0.3,0.4,0.5,0.6,0.7,0.8,0.9]\n",
    "all_qs = torch.Tensor(all_qs).to(device)\n",
    "mean_is = 0\n",
    "std_is = 1\n",
    "penalty = 1\n",
    "alpha = 0.0\n",
    "tau= 0.2\n",
    "\n",
    "ls_list_LALR_sBQC= []\n",
    "val_list_LALR_sBQC= []\n",
    "acc_list_LALR_sBQC= []\n",
    "ls_list_CLR_sBQC= []\n",
    "val_list_CLR_sBQC= []\n",
    "acc_list_CLR_sBQC= []\n",
    "ls_list_LALR_BCE= []\n",
    "val_list_LALR_BCE= []\n",
    "acc_list_LALR_BCE= []\n",
    "ls_list_CLR_BCE= []\n",
    "val_list_CLR_BCE= []\n",
    "acc_list_CLR_BCE= []\n",
    "\n",
    "ls_list_LBFGS_sBQC= []\n",
    "val_list_LBFGS_sBQC= []\n",
    "acc_list_LBFGS_sBQC= []"
   ]
  },
  {
   "cell_type": "code",
   "execution_count": 333,
   "metadata": {
    "collapsed": false
   },
   "outputs": [],
   "source": [
    "# training loops:\n",
    "def trainConstantLR(model, trainLoader, valLoader, optimizer, criterion, tau, epochs, ls_list, valList, acc_list, loss_name= \"sBQC\"):\n",
    "    \"\"\"\n",
    "    Training loop used for CLR training\n",
    "    \"\"\"\n",
    "    for epoch in range(epochs):\n",
    "        epoch_loss= 0.0\n",
    "        # training loop\n",
    "        model.train()\n",
    "        for inputs, labels in trainLoader: \n",
    "            inputs= inputs.to(device) \n",
    "            labels= labels.to(device)\n",
    "            optimizer.zero_grad() \n",
    "            outputs= model(inputs) \n",
    "            # loss= criterion(torch.unsqueeze(labels, 1), outputs, tau) \n",
    "            # print(outputs, labels)\n",
    "            # outputs= outputs.to(torch.LongTensor()).to(device)\n",
    "            if loss_name== \"BCE\":\n",
    "                loss= criterion(outputs.view(outputs.shape[0],), labels) # For BCE\n",
    "            elif loss_name== \"sBQC\":\n",
    "                loss= criterion(labels, outputs.view(outputs.shape[0],), tau) # For sBQC\n",
    "            # loss= criterion(outputs, labels) # works for one hot encoding and BCE\n",
    "            # loss= criterion(outputs, torch.unsqueeze(labels, 1))#, tau) \n",
    "            loss.backward() \n",
    "            optimizer.step() \n",
    "            epoch_loss+= loss.item()\n",
    "        ls_list.append(epoch_loss/len(trainLoader))\n",
    "\n",
    "        # validation loop\n",
    "        val_loss= 0.0\n",
    "        num_correct= 0\n",
    "        total= 0 \n",
    "        model.eval()\n",
    "        for inputs, labels in valLoader:\n",
    "            inputs= inputs.to(device)\n",
    "            labels= labels.to(device)\n",
    "            outputs= model(inputs)\n",
    "            if loss_name== \"BCE\":\n",
    "                loss= criterion(outputs.view(outputs.shape[0],), labels) # For BCE\n",
    "            elif loss_name== \"sBQC\":\n",
    "                loss= criterion(labels, outputs.view(outputs.shape[0],), tau) # For sBQC\n",
    "            val_loss+= loss.item()\n",
    "            x= torch.where(outputs.view(outputs.shape[0]) > 0.5, 1, 0)\n",
    "            num_correct += (x==labels).sum()\n",
    "            total += labels.size(0)\n",
    "        valList.append(val_loss/len(valLoader))\n",
    "        acc_list.append(float(num_correct)/float(total)*100)\n",
    "        print(\"Epoch: {} Training Loss: {} Validation loss: {} Accuracy: {}\".format(epoch, epoch_loss/len(trainLoader), val_loss/len(valLoader),\n",
    "         float(num_correct)/float(total)*100))\n",
    "\n",
    "\n",
    "def trainLALR(model, trainLoader, valLoader, optimizer, criterion, tau, epochs, ls_list, valList, acc_list, mask, loss_name= \"sBQC\"):\n",
    "    \"\"\"\n",
    "    Training loop used for LALR training\n",
    "    \"\"\"\n",
    "    for epoch in range(epochs):\n",
    "        epoch_loss= 0.0\n",
    "        lr_val= computeLR(model,train_loader, mask, tau, bSize= batch_is)\n",
    "        optimizer.param_groups[0]['lr']= lr_val\n",
    "        # training loop\n",
    "        model.train()\n",
    "        for inputs, labels in trainLoader: \n",
    "            inputs= inputs.to(device) \n",
    "            labels= labels.to(device)\n",
    "            optimizer.zero_grad() \n",
    "            outputs= model(inputs) \n",
    "            if loss_name== \"BCE\":\n",
    "                loss= criterion(outputs.view(outputs.shape[0],), labels) # For BCE\n",
    "            elif loss_name== \"sBQC\":\n",
    "                loss= criterion(labels, outputs.view(outputs.shape[0],), tau) # For sBQC\n",
    "            loss.backward() \n",
    "            optimizer.step() \n",
    "            epoch_loss+= loss.item()\n",
    "        ls_list.append(epoch_loss/len(trainLoader))\n",
    "\n",
    "        # validation loop\n",
    "        val_loss= 0.0\n",
    "        num_correct= 0\n",
    "        total= 0 \n",
    "        model.eval()\n",
    "        for inputs, labels in valLoader:\n",
    "            inputs= inputs.to(device)\n",
    "            labels= labels.to(device)\n",
    "            outputs= model(inputs)\n",
    "            if loss_name== \"BCE\":\n",
    "                loss= criterion_(outputs.view(outputs.shape[0],), labels) # For BCE\n",
    "            elif loss_name== \"sBQC\":\n",
    "                loss= criterion(labels, outputs.view(outputs.shape[0],), tau) # For sBQC\n",
    "            val_loss+= loss.item()\n",
    "            x= torch.where(outputs.view(outputs.shape[0]) > 0.5, 1, 0)\n",
    "            num_correct += (x==labels).sum()\n",
    "            total += labels.size(0)\n",
    "        valList.append(val_loss/len(valLoader))\n",
    "        acc_list.append(float(num_correct)/float(total)*100)\n",
    "        print(\"Epoch: {} Training Loss: {} Validation loss: {} LR: {} Accuracy: {}\".format(epoch, epoch_loss/len(trainLoader), val_loss/len(valLoader), optimizer.param_groups[0]['lr'], float(num_correct)/float(total)*100))\n",
    "\n",
    "def trainLBFGS(model, trainLoader, valLoader, optimizer, criterion, tau, epochs, ls_list, valList, acc_list, loss_name= \"sBQC\"):\n",
    "    \"\"\"\n",
    "    Training loop used for LBFGS and conjugate gradient training\n",
    "    \"\"\"\n",
    "    for epoch in range(epochs):\n",
    "        epoch_loss= 0.0\n",
    "        # training loop\n",
    "        model.train()\n",
    "        for inputs, labels in trainLoader: \n",
    "            inputs= inputs.to(device) \n",
    "            labels= labels.to(device)\n",
    "            def closure():\n",
    "                optimizer.zero_grad()\n",
    "                outputs= model(inputs)\n",
    "                if loss_name== \"BCE\":\n",
    "                    loss= criterion(outputs.view(outputs.shape[0],), labels) # For BCE\n",
    "                elif loss_name== \"sBQC\":\n",
    "                    loss= criterion(labels, outputs.view(outputs.shape[0],), tau) # For sBQC\n",
    "                loss.backward()\n",
    "                return loss\n",
    "            # optimizer.step(closure)\n",
    "            # optimizer.zero_grad() \n",
    "            # outputs= model(inputs) \n",
    "            # loss= criterion(outputs, labels, tau, h) \n",
    "            # loss.backward()\n",
    "            optimizer.step(closure) \n",
    "        # ls_list.append(epoch_loss/len(trainLoader))\n",
    "\n",
    "        # validation loop\n",
    "        val_loss= 0.0\n",
    "        num_correct= 0\n",
    "        total= 0 \n",
    "        model.eval()\n",
    "        for inputs, labels in valLoader:\n",
    "            inputs= inputs.to(device)\n",
    "            labels= labels.to(device)\n",
    "            outputs= model(inputs)\n",
    "            if loss_name== \"BCE\":\n",
    "                loss= criterion(outputs.view(outputs.shape[0],), labels) # For BCE\n",
    "            elif loss_name== \"sBQC\":\n",
    "                loss= criterion(labels, outputs.view(outputs.shape[0],), tau) # For sBQC\n",
    "            val_loss+= loss.item()\n",
    "            x= torch.where(outputs.view(outputs.shape[0]) > 0.5, 1, 0)\n",
    "            num_correct += (x==labels).sum()\n",
    "            total += labels.size(0)\n",
    "        valList.append(val_loss/len(valLoader))\n",
    "        acc_list.append(float(num_correct)/float(total)*100)\n",
    "        print(\"Epoch: {} Training Loss: {} Validation loss: {} Accuracy: {}\".format(epoch, epoch_loss/len(trainLoader), val_loss/len(valLoader),\n",
    "         float(num_correct)/float(total)*100))\n",
    "\n",
    "# def computeLR(model, trainLoader, mask, tau, bSize= 16):\n",
    "#     \"\"\"\n",
    "#     Takes in a network of the LALRnetwork class(during some arbitrary EPOCH of training) and the current input, and returns Kz for the EPOCH\n",
    "#     \"\"\"\n",
    "#     Kz = 0.0\n",
    "#     model.eval()\n",
    "#     with torch.no_grad():\n",
    "#         for i,j in enumerate(trainLoader):\n",
    "#             inputs,labels= j[0],j[1]\n",
    "#             inputs= inputs.to(device)\n",
    "#             labels= labels.to(device)\n",
    "#             op1= model.penU(inputs)\n",
    "#             # first taking the max and min for each batch\n",
    "#             activ1, indx1= torch.max(op1, dim= 1)\n",
    "#             # val1= torch.linalg.norm(op1)\n",
    "#             # now, we take the max and min across batches\n",
    "#             val1, indx2= torch.max(activ1, dim= 0)\n",
    "#             # print(indx, i)\n",
    "#             if val1 > Kz:\n",
    "#                 # in the case of K_z, we do not need the index where the max occurs, hence only deal with the value\n",
    "#                 Kz= val1 \n",
    "#     factor= 1\n",
    "#     if mask == 1:\n",
    "#         factor =  max(2/math.pi, 2-2*tau/(math.pi*tau), 2*tau/(math.pi*(1-tau)))\n",
    "#     else:\n",
    "#         factor= 0.5\n",
    "#     LR= (factor*Kz)/bSize\n",
    "#     # if LR == 0:\n",
    "#     #     return 0.1\n",
    "#     return (1/LR)*0.01\n",
    "\n",
    "def computeLR(model, trainLoader, mask, tau, bSize= 16):\n",
    "    \"\"\"\n",
    "    Takes in a network of the LALRnetwork class(during some arbitrary EPOCH of training) and the current input, and returns Kz for the EPOCH\n",
    "    \"\"\"\n",
    "    Kz = 0.0\n",
    "    # Ka= 0.0\n",
    "    # Y= 0.0\n",
    "    # z_k= 0.0\n",
    "    model.eval()\n",
    "    with torch.no_grad():\n",
    "        for i,j in enumerate(trainLoader):\n",
    "            inputs,labels= j[0],j[1]\n",
    "            inputs= inputs.to(device)\n",
    "            labels= labels.to(device)\n",
    "            op1= model.penU(inputs)\n",
    "            # op2= model(inputs)\n",
    "            # first taking the max and min for each batch\n",
    "            val1= torch.linalg.norm(op1)\n",
    "            # activ1, arg1= torch.max(op1, dim= 1)\n",
    "            # activ2, arg2= torch.min(op2, dim= 1)\n",
    "            # now, we take the max and min across batches\n",
    "            # val1, indx1= torch.max(activ1, dim= 0)\n",
    "            # val2, indx2= torch.min(activ2, dim= 0)\n",
    "            # val3= computeKa(op2)\n",
    "            # val4= computeKa(labels)\n",
    "            if val1 > Kz:\n",
    "                # in the case of K_z, we do not need the index where the max occurs, hence only deal with the value\n",
    "                Kz= val1 \n",
    "            # z_k= val2\n",
    "            # if val3 > Ka:\n",
    "            #     Ka= val3\n",
    "            # if val3 > Y:\n",
    "            #     Y= val4 \n",
    "\n",
    "    LR= 1\n",
    "    factor= 1\n",
    "    if mask== 1: \n",
    "        LR=  max(2/math.pi, 2-2*tau/(math.pi*tau), 2*tau/(math.pi*(1-tau)))*Kz*(1/bSize)\n",
    "        factor= 0.15\n",
    "    else:\n",
    "        LR= 0.5*Kz*(1/bSize)\n",
    "        factor= 0.05\n",
    "\n",
    "    return (1/LR)*factor"
   ]
  },
  {
   "cell_type": "code",
   "execution_count": 338,
   "metadata": {
    "collapsed": false
   },
   "outputs": [
    {
     "name": "stdout",
     "output_type": "stream",
     "text": [
      "Epoch: 0 Training Loss: -82.61404854910714 Validation loss: -76.59082870483398 LR: 0.2785671651363373 Accuracy: 96.78571428571429\n",
      "Epoch: 1 Training Loss: -82.61404691423688 Validation loss: -76.59082870483398 LR: 0.27856260538101196 Accuracy: 96.78571428571429\n",
      "Epoch: 2 Training Loss: -82.61405181884766 Validation loss: -76.59082870483398 LR: 0.27859219908714294 Accuracy: 96.78571428571429\n",
      "Epoch: 3 Training Loss: -82.61405072893415 Validation loss: -76.59082870483398 LR: 0.2785593569278717 Accuracy: 96.78571428571429\n",
      "Epoch: 4 Training Loss: -82.61405072893415 Validation loss: -76.59082870483398 LR: 0.27857473492622375 Accuracy: 96.78571428571429\n",
      "Epoch: 5 Training Loss: -82.61404800415039 Validation loss: -76.59082870483398 LR: 0.2785775065422058 Accuracy: 96.78571428571429\n",
      "Epoch: 6 Training Loss: -82.61404691423688 Validation loss: -76.59082870483398 LR: 0.27853670716285706 Accuracy: 96.78571428571429\n",
      "Epoch: 7 Training Loss: -82.61404963902065 Validation loss: -76.59082870483398 LR: 0.2785731852054596 Accuracy: 96.78571428571429\n",
      "Epoch: 8 Training Loss: -82.61404854910714 Validation loss: -76.59082870483398 LR: 0.27857527136802673 Accuracy: 96.78571428571429\n",
      "Epoch: 9 Training Loss: -82.61404854910714 Validation loss: -76.59082870483398 LR: 0.27856382727622986 Accuracy: 96.78571428571429\n"
     ]
    }
   ],
   "source": [
    "# LALR, sBQC\n",
    "trainLALR(modelLALR_sBQC, train_loader, test_loader, optimizerLALR_sBQC, criterion, tau, 10, ls_list_LALR_sBQC, val_list_LALR_sBQC, acc_list_LALR_sBQC, 1, \"sBQC\")"
   ]
  },
  {
   "cell_type": "code",
   "execution_count": 343,
   "metadata": {
    "collapsed": false
   },
   "outputs": [
    {
     "name": "stdout",
     "output_type": "stream",
     "text": [
      "Epoch: 0 Training Loss: 0.12448933933462415 Validation loss: 0.1374417930841446 LR: 0.2529822289943695 Accuracy: 96.07142857142857\n",
      "Epoch: 1 Training Loss: 0.12648398748465947 Validation loss: 0.13920720666646957 LR: 0.2529822289943695 Accuracy: 96.07142857142857\n",
      "Epoch: 2 Training Loss: 0.14573547882693155 Validation loss: 0.13689088076353073 LR: 0.2529822289943695 Accuracy: 96.07142857142857\n",
      "Epoch: 3 Training Loss: 0.12040134359683309 Validation loss: 0.15340058803558348 LR: 0.2529822289943695 Accuracy: 96.07142857142857\n",
      "Epoch: 4 Training Loss: 0.11276280161525522 Validation loss: 0.14005544334650039 LR: 0.2529822289943695 Accuracy: 96.07142857142857\n",
      "Epoch: 5 Training Loss: 0.1231042854487896 Validation loss: 0.1441948965191841 LR: 0.2529822289943695 Accuracy: 96.07142857142857\n",
      "Epoch: 6 Training Loss: 0.12198963521846704 Validation loss: 0.14046140015125275 LR: 0.2529822289943695 Accuracy: 96.07142857142857\n",
      "Epoch: 7 Training Loss: 0.14312632834272726 Validation loss: 0.14067488461732863 LR: 0.2529822289943695 Accuracy: 96.07142857142857\n",
      "Epoch: 8 Training Loss: 0.12005420641175338 Validation loss: 0.14236827492713927 LR: 0.2529822289943695 Accuracy: 96.07142857142857\n",
      "Epoch: 9 Training Loss: 0.12349935966942992 Validation loss: 0.13689363300800322 LR: 0.2529822289943695 Accuracy: 96.07142857142857\n"
     ]
    }
   ],
   "source": [
    "# LALR, BCE\n",
    "trainLALR(modelLALR_BCE, train_loader, test_loader, optimizerLALR_BCE, criterion_, tau, 10, ls_list_LALR_BCE, val_list_LALR_BCE, acc_list_LALR_BCE, 2, \"BCE\")"
   ]
  },
  {
   "cell_type": "code",
   "execution_count": 348,
   "metadata": {
    "collapsed": false
   },
   "outputs": [
    {
     "name": "stdout",
     "output_type": "stream",
     "text": [
      "Epoch: 0 Training Loss: -82.66187776838031 Validation loss: -76.0363983154297 Accuracy: 95.71428571428572\n",
      "Epoch: 1 Training Loss: -82.66593061174665 Validation loss: -76.04040069580078 Accuracy: 95.71428571428572\n",
      "Epoch: 2 Training Loss: -82.66975130353656 Validation loss: -76.04437255859375 Accuracy: 95.71428571428572\n",
      "Epoch: 3 Training Loss: -82.67333439418248 Validation loss: -76.0484405517578 Accuracy: 95.71428571428572\n",
      "Epoch: 4 Training Loss: -82.67677307128906 Validation loss: -76.05205535888672 Accuracy: 95.71428571428572\n",
      "Epoch: 5 Training Loss: -82.68001556396484 Validation loss: -76.05561218261718 Accuracy: 95.71428571428572\n",
      "Epoch: 6 Training Loss: -82.68309075491769 Validation loss: -76.05853576660157 Accuracy: 95.71428571428572\n",
      "Epoch: 7 Training Loss: -82.686037336077 Validation loss: -76.06159591674805 Accuracy: 95.71428571428572\n",
      "Epoch: 8 Training Loss: -82.68882424490792 Validation loss: -76.06456298828125 Accuracy: 95.71428571428572\n",
      "Epoch: 9 Training Loss: -82.69147545950753 Validation loss: -76.06776580810546 Accuracy: 95.71428571428572\n"
     ]
    }
   ],
   "source": [
    "# CLR, sBQC\n",
    "trainConstantLR(modelCLR_sBQC, train_loader, test_loader, optimizerCLR_sBQC, criterion, tau, 10, ls_list_CLR_sBQC, val_list_CLR_sBQC, acc_list_CLR_sBQC, \"sBQC\")"
   ]
  },
  {
   "cell_type": "code",
   "execution_count": 353,
   "metadata": {
    "collapsed": false
   },
   "outputs": [
    {
     "name": "stdout",
     "output_type": "stream",
     "text": [
      "Epoch: 0 Training Loss: 0.030538431368768215 Validation loss: 0.16661071367561817 Accuracy: 94.64285714285714\n",
      "Epoch: 1 Training Loss: 0.03177786388966654 Validation loss: 0.1677365081384778 Accuracy: 94.64285714285714\n",
      "Epoch: 2 Training Loss: 0.02984937440071787 Validation loss: 0.16853549033403398 Accuracy: 95.0\n",
      "Epoch: 3 Training Loss: 0.02936616456801338 Validation loss: 0.16690744888037443 Accuracy: 95.0\n",
      "Epoch: 4 Training Loss: 0.029072684501963004 Validation loss: 0.1692367303185165 Accuracy: 95.0\n",
      "Epoch: 5 Training Loss: 0.0284194827212819 Validation loss: 0.1699464414268732 Accuracy: 95.0\n",
      "Epoch: 6 Training Loss: 0.02837654422702534 Validation loss: 0.1717002395540476 Accuracy: 95.0\n",
      "Epoch: 7 Training Loss: 0.029502880327137455 Validation loss: 0.17348455544561148 Accuracy: 95.0\n",
      "Epoch: 8 Training Loss: 0.02577961183020047 Validation loss: 0.17240577144548297 Accuracy: 95.0\n",
      "Epoch: 9 Training Loss: 0.025805150624364614 Validation loss: 0.17249278202652932 Accuracy: 95.0\n"
     ]
    }
   ],
   "source": [
    "# CLR, BCE\n",
    "trainConstantLR(modelCLR_BCE, train_loader, test_loader, optimizerCLR_BCE, criterion_, tau, 10, ls_list_CLR_BCE, val_list_CLR_BCE, acc_list_CLR_BCE, \"BCE\")"
   ]
  },
  {
   "cell_type": "code",
   "execution_count": 84,
   "metadata": {
    "collapsed": false
   },
   "outputs": [
    {
     "name": "stdout",
     "output_type": "stream",
     "text": [
      "Epoch: 0 Training Loss: 0.0 Validation loss: -67.76021575927734 Accuracy: 81.9672131147541\n",
      "Epoch: 1 Training Loss: 0.0 Validation loss: -67.76021575927734 Accuracy: 81.9672131147541\n",
      "Epoch: 2 Training Loss: 0.0 Validation loss: -67.76021575927734 Accuracy: 81.9672131147541\n",
      "Epoch: 3 Training Loss: 0.0 Validation loss: -67.76021575927734 Accuracy: 81.9672131147541\n",
      "Epoch: 4 Training Loss: 0.0 Validation loss: -67.76021575927734 Accuracy: 81.9672131147541\n",
      "Epoch: 5 Training Loss: 0.0 Validation loss: -67.76021575927734 Accuracy: 81.9672131147541\n",
      "Epoch: 6 Training Loss: 0.0 Validation loss: -67.76021575927734 Accuracy: 81.9672131147541\n",
      "Epoch: 7 Training Loss: 0.0 Validation loss: -67.76021575927734 Accuracy: 81.9672131147541\n",
      "Epoch: 8 Training Loss: 0.0 Validation loss: -67.76021575927734 Accuracy: 81.9672131147541\n",
      "Epoch: 9 Training Loss: 0.0 Validation loss: -67.76021575927734 Accuracy: 81.9672131147541\n"
     ]
    }
   ],
   "source": [
    "# LBFGS, sBQC\n",
    "trainLBFGS(modelLBFGS_sBQC, train_loader, test_loader, optimizerLBFGS_sBQC, criterion, tau, 10, ls_list_LBFGS_sBQC, val_list_LBFGS_sBQC, acc_list_LBFGS_sBQC, \"sBQC\")"
   ]
  },
  {
   "cell_type": "code",
   "execution_count": 17,
   "metadata": {
    "collapsed": false
   },
   "outputs": [
    {
     "data": {
      "text/plain": [
       "<matplotlib.legend.Legend at 0x7f66262aaac0>"
      ]
     },
     "execution_count": 17,
     "metadata": {},
     "output_type": "execute_result"
    },
    {
     "data": {
      "image/png": "[encoded data removed]",
      "text/plain": [
       "<Figure size 432x288 with 1 Axes>"
      ]
     },
     "metadata": {
      "needs_background": "light"
     },
     "output_type": "display_data"
    }
   ],
   "source": [
    "# error plots\n",
    "# plt.plot(range(10), ls_list_LALR_sBQC)\n",
    "# plt.plot(range(len(val_list_LALR_sBQC)), val_list_LALR_sBQC, label= \"LALR_sBQC\")\n",
    "# plt.plot(range(len(ls_list_LALR_sBQC)), ls_list_LALR_sBQC, label= \"LALR_sBQC_ls\")\n",
    "# plt.plot(range(len(val_list_CLR_sBQC)), val_list_CLR_sBQC, label= \"CLR_sBQC\")\n",
    "# plt.plot(range(len(val_list_LALR_sBQC)), val_list_LALR_BCE, label= \"LALR_BCE\")\n",
    "# plt.plot(range(len(val_list_CLR_sBQC)), val_list_CLR_BCE, label= \"CLR_BCE\")\n",
    "# plt.plot(range(len(acc_list_CLR_BCE)), acc_list_CLR_BCE, label= \"CLR_BCE_acc\")\n",
    "# plt.plot(range(len(acc_list_CLR_sBQC)), acc_list_CLR_sBQC, label= \"CLR_sBQC_acc\")\n",
    "# plt.plot(range(len(acc_list_LALR_BCE)), acc_list_LALR_BCE, label= \"LALR_BCE_acc\")\n",
    "# plt.plot(range(len(acc_list_LALR_sBQC)), acc_list_LALR_sBQC, label= \"LALR_sBQC_acc\")\n",
    "# plt.plot(range(len(val_list_LBFGS_sBQC)), val_list_LBFGS_sBQC, label= \"LBFGS_sBQC_val\")\n",
    "# plt.plot(range(len(acc_list_LBFGS_sBQC)), acc_list_LBFGS_sBQC, label= \"LBFGS_sBQC_acc\")\n",
    "plt.xlabel(\"Epochs\")\n",
    "plt.ylabel(\"Validation loss\")\n",
    "plt.legend()"
   ]
  },
  {
   "cell_type": "code",
   "execution_count": 354,
   "metadata": {
    "collapsed": false
   },
   "outputs": [],
   "source": [
    "# metrics:\n",
    "def computeMetrics(model):\n",
    "    outputs= torch.Tensor([])\n",
    "    outputs= outputs.to(device)\n",
    "    labels= torch.Tensor([])\n",
    "    labels= labels.to(device)\n",
    "    for inputs, label in test_loader:\n",
    "        inputs= inputs.to(device)\n",
    "        label= label.to(device)\n",
    "        output= model(inputs)\n",
    "        outputs= torch.cat((outputs, output))\n",
    "        labels= torch.cat((labels, label))\n",
    "    x= outputs\n",
    "    x= torch.where(outputs.view(outputs.shape[0]) > 0.5, 1, 0)\n",
    "    CP= cohen_kappa_score(labels.detach().to('cpu').numpy(), x.detach().to('cpu').numpy())\n",
    "    JS= jaccard_score(labels.detach().to('cpu').numpy(), x.detach().to('cpu').numpy())\n",
    "    F1= f1_score(labels.detach().to('cpu').numpy(), x.detach().to('cpu').numpy())\n",
    "    return [CP, JS, F1]"
   ]
  },
  {
   "cell_type": "code",
   "execution_count": 358,
   "metadata": {
    "collapsed": false
   },
   "outputs": [
    {
     "data": {
      "text/plain": [
       "[0.9154125013731736, 0.8981481481481481, 0.9463414634146342]"
      ]
     },
     "execution_count": 358,
     "metadata": {},
     "output_type": "execute_result"
    }
   ],
   "source": [
    "computeMetrics(modelLALR_BCE)"
   ]
  },
  {
   "cell_type": "code",
   "execution_count": null,
   "metadata": {
    "collapsed": false
   },
   "outputs": [],
   "source": []
  }
 ],
 "metadata": {
  "interpreter": {
   "hash": "e7370f93d1d0cde622a1f8e1c04877d8463912d04d973331ad4851f04de6915a"
  },
  "kernelspec": {
   "argv": [
    "/home/aryamanj/miniconda3/bin/python",
    "-m",
    "ipykernel_launcher",
    "-f",
    "{connection_file}"
   ],
   "display_name": "Python 3 (ipykernel)",
   "env": null,
   "interrupt_mode": "signal",
   "language": "python",
   "metadata": {
    "debugger": true
   },
   "name": "python3"
  },
  "language_info": {
   "codemirror_mode": {
    "name": "ipython",
    "version": 3
   },
   "file_extension": ".py",
   "mimetype": "text/x-python",
   "name": "python",
   "nbconvert_exporter": "python",
   "pygments_lexer": "ipython3",
   "version": "3.7.11"
  },
  "name": "LALRclassification.ipynb"
 },
 "nbformat": 4,
 "nbformat_minor": 2
}
