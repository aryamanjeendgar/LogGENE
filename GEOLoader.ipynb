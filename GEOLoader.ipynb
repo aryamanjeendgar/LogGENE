{
 "cells": [
  {
   "cell_type": "code",
   "execution_count": 70,
   "metadata": {},
   "outputs": [],
   "source": [
    "import numpy as np\n",
    "import pandas as pd\n",
    "import os\n",
    "import torch\n",
    "import torch.nn.functional as F\n",
    "import torch.nn as nn\n",
    "from torch import optim\n",
    "from adahessian import Adahessian, get_params_grad\n",
    "import torch.optim.lr_scheduler as lr_scheduler\n",
    "from fastai.vision.all import *"
   ]
  },
  {
   "cell_type": "markdown",
   "metadata": {},
   "source": [
    "## Writing the data-loader class for the GEO-dataset (can be changed to wrok for both the training and validation sets)"
   ]
  },
  {
   "cell_type": "code",
   "execution_count": 71,
   "metadata": {},
   "outputs": [],
   "source": [
    "def GEOdataLoader(path, bSize= 16):\n",
    "    \"\"\"\n",
    "    Specify the path to the parent folder containing the .npy files\n",
    "    \"\"\"\n",
    "    X_tr= np.load(os.path.join(path, \"X_tr.npy\"))\n",
    "    Y_tr= np.load(os.path.join(path, \"Y_tr.npy\"))\n",
    "    X_va= np.load(os.path.join(path, \"X_va.npy\"))\n",
    "    Y_va= np.load(os.path.join(path, \"Y_va.npy\"))\n",
    "\n",
    "    test_data= torch.utils.data.TensorDataset(torch.from_numpy(X_tr).float(), torch.from_numpy(Y_tr).float())\n",
    "    val_data= torch.utils.data.TensorDataset(torch.from_numpy(X_va).float(), torch.from_numpy(Y_va).float())\n",
    "    trainLoader= torch.utils.data.DataLoader(test_data, batch_size=bSize, shuffle=True) \n",
    "    valLoader= torch.utils.data.DataLoader(val_data, batch_size=bSize, shuffle=True) \n",
    "    return (trainLoader, valLoader)"
   ]
  },
  {
   "cell_type": "code",
   "execution_count": 3,
   "metadata": {},
   "outputs": [],
   "source": [
    "# standardised class for all network architectures\n",
    "class Network(nn.Module):\n",
    "    def __init__(self, size1, size2, drop):\n",
    "        super(Network, self).__init__()\n",
    "        self.net= nn.Sequential(\n",
    "            nn.Linear(943, size1),\n",
    "            nn.Tanh(),\n",
    "            nn.Dropout(p= drop),\n",
    "            nn.Linear(size1, size2),\n",
    "            nn.Tanh(),\n",
    "            nn.Dropout(p= drop),\n",
    "            nn.Linear(size2, 4760) \n",
    "        )\n",
    "\n",
    "    def forward(self, input):\n",
    "        return self.net(input)"
   ]
  },
  {
   "cell_type": "code",
   "execution_count": 4,
   "metadata": {},
   "outputs": [],
   "source": [
    "# network class for the wide-medium architecture\n",
    "class wideM(nn.Module):\n",
    "    def __init__(self, size1, drop):\n",
    "        super(wideM, self).__init__()\n",
    "        self.net= nn.Sequential(\n",
    "            nn.Linear(943, size1),\n",
    "            nn.Tanh(),\n",
    "            nn.Dropout(p= drop),\n",
    "            nn.Linear(size1, 4760) \n",
    "        )\n",
    "\n",
    "    def forward(self, input):\n",
    "        return self.net(input)"
   ]
  },
  {
   "cell_type": "code",
   "execution_count": 72,
   "metadata": {},
   "outputs": [],
   "source": [
    "# defining all the criterions to be used in the following experiments:\n",
    "\n",
    "\n",
    "def tiltedLC(x, y, tau, h):\n",
    "    e= y-x # errors\n",
    "    ind= (torch.sign(e)+1)/2 # the division in the log-cosh is only about the origin\n",
    "    quantFactor= (1-tau)*(1-ind) + tau*ind\n",
    "    loss= quantFactor*torch.log(torch.cosh(e))\n",
    "    loss= torch.mean(loss)\n",
    "    return loss\n",
    "\n",
    "def check_loss(x, y, tau): # the x,*args way to pass arguments to this function is an idiom for the scipy.optimize() library y = args[0][0]\n",
    "    e = y-x\n",
    "    # below I(e<0)\n",
    "    ind = (np.sign(-e)+1)/2\n",
    "    loss = np.mean(e*(tau-ind))\n",
    "    return loss\n",
    "\n",
    "\n",
    "class TiltedLC(nn.Module):\n",
    "    def __init__(self):\n",
    "        super(TiltedLC, self).__init__()\n",
    "    def forward(self, x, y, tau, h):\n",
    "        return tiltedLC(x, y, tau, h)\n",
    "\n",
    "class CheckLoss(nn.Module):\n",
    "    def __init__(self):\n",
    "        super(CheckLoss, self).__init__()\n",
    "    def forward(self, x, y, tau):\n",
    "        return check_loss(x, y, tau)"
   ]
  },
  {
   "cell_type": "code",
   "execution_count": 73,
   "metadata": {},
   "outputs": [],
   "source": [
    "# global initialisations:\n",
    "h= 0.4 # smoothing parameter for the log-cosh \n",
    "device= ('cuda' if torch.cuda.is_available() else 'cpu')\n",
    "# device= 'cpu'\n",
    "trainLoader, valLoader= GEOdataLoader(\"/home/aryamanj/Downloads/LGdata\")\n",
    "criterion= multiQuantileLoss(3)\n",
    "criterion1= CheckLoss()\n",
    "criterion2= nn.L1Loss()\n",
    "criterion3= nn.MSELoss()\n",
    "N_EPOCHS= 500"
   ]
  },
  {
   "cell_type": "markdown",
   "metadata": {},
   "source": [
    "## Instantiations and training loops start for constant LR's"
   ]
  },
  {
   "cell_type": "code",
   "execution_count": 74,
   "metadata": {},
   "outputs": [],
   "source": [
    "# instantiating objects for all constantLR tests:\n",
    "size1,size2= 300,300\n",
    "model_CLR_S= LALRnetwork(size1, size2, 0.1).to(device)\n",
    "optimizer_CLR_S= optim.SGD(model_CLR_S.parameters(), lr= 0.1)\n",
    "lossList_CLR_S= []\n",
    "valList_CLR_S= []\n",
    "\n",
    "size1, size2= 1000, 1000\n",
    "model_CLR_M= LALRnetwork(size1, size2, 0.1).to(device)\n",
    "optimizer_CLR_M= optim.SGD(model_CLR_M.parameters(), lr= 0.1)\n",
    "lossList_CLR_M= []\n",
    "valList_CLR_M= []\n",
    "\n",
    "size1, size2= 3000, 3000\n",
    "model_CLR_L= LALRnetwork(size1, size2, 0.1).to(device)\n",
    "optimizer_CLR_L= optim.SGD(model_CLR_L.parameters(), lr= 0.1)\n",
    "lossList_CLR_L= []\n",
    "valList_CLR_L= []\n",
    "\n",
    "size1= 2000\n",
    "model_CLR_WM= LALRwideM(size1, 0.1).to(device)\n",
    "optimizer_CLR_WM= optim.SGD(model_CLR_WM.parameters(), lr= 0.1)\n",
    "lossList_CLR_WM= []\n",
    "valList_CLR_WM= []"
   ]
  },
  {
   "cell_type": "code",
   "execution_count": null,
   "metadata": {},
   "outputs": [],
   "source": [
    "def trainConstantLR(model, optimizer, criterion, epochs, ls_list, valList):\n",
    "    \"\"\"\n",
    "    Training loop used for constantLR training\n",
    "    \"\"\"\n",
    "    for epoch in range(epochs):\n",
    "        epoch_loss= [0.0, 0.0, 0.0, 0.0, 0.0, 0.0, 0.0, 0.0, 0.0]\n",
    "        # training loop\n",
    "        model.train()\n",
    "        for inputs, labels in trainLoader: \n",
    "            inputs= inputs.to(device) \n",
    "            labels= labels.to(device)\n",
    "            labels= torch.tile(labels, (1,9))\n",
    "            optimizer.zero_grad() \n",
    "            outputs= model(inputs) \n",
    "            outputs= torch.cat(outputs, dim=1)\n",
    "            loss, epoch_loss = criterion(outputs, labels, h, epoch_loss) \n",
    "            loss.backward() \n",
    "            optimizer.step() \n",
    "\n",
    "        # validation loop\n",
    "        val_loss= [0.0, 0.0, 0.0, 0.0, 0.0, 0.0, 0.0, 0.0, 0.0]\n",
    "        model.eval()\n",
    "        for inputs, labels in valLoader:\n",
    "            inputs= inputs.to(device)\n",
    "            labels= labels.to(device)\n",
    "            outputs= model(inputs)\n",
    "            loss= criterion(outputs, labels, h, val_loss)\n",
    "        ls_list.append([x/len(trainLoader) for x in epoch_loss])\n",
    "        valList.append([x/len(valLoader) for x in valList])\n",
    "        print(\"Epoch: {} Loss-0.1: {} Loss-0.5: {} Loss-0.9: {}\".format(epoch,\n",
    "            ls_list[epoch][0], ls_list[epoch][4], ls_list[epoch][8]))\n",
    "\n",
    "def trainadaH(model, optimizer, criterion, epochs, ls_list, valList):\n",
    "    \"\"\"\n",
    "    Training loop used for adaH training\n",
    "    \"\"\"\n",
    "    for epoch in range(epochs):\n",
    "        epoch_loss= [0.0, 0.0, 0.0, 0.0, 0.0, 0.0, 0.0, 0.0, 0.0]\n",
    "        # training loop\n",
    "        model.train()\n",
    "        for inputs, labels in trainLoader: \n",
    "            inputs= inputs.to(device) \n",
    "            labels= labels.to(device)\n",
    "            labels= torch.tile(labels, (1,9))\n",
    "            optimizer.zero_grad() \n",
    "            outputs= model(inputs) \n",
    "            outputs= torch.cat(outputs, dim=1)\n",
    "            loss, epoch_loss = criterion(outputs, labels, h, epoch_loss) \n",
    "            loss.backward(create_graph=True)\n",
    "            _, gradsH = get_params_grad(model)\n",
    "            optimizer.step(gradsH)\n",
    "        ls_list.append([x/len(trainLoader) for x in epoch_loss])\n",
    "\n",
    "        # validation loop\n",
    "        val_loss= [0.0, 0.0, 0.0, 0.0, 0.0, 0.0, 0.0, 0.0, 0.0]\n",
    "        model.eval()\n",
    "        for inputs, labels in valLoader:\n",
    "            inputs= inputs.to(device)\n",
    "            labels= labels.to(device)\n",
    "            outputs= model(inputs)\n",
    "            loss= criterion(outputs, labels, h, val_loss)\n",
    "        valList.append([x/len(valLoader) for x in valList])\n",
    "        print(\"Epoch: {} Loss-0.1: {} Loss-0.5: {} Loss-0.9: {}\".format(epoch,\n",
    "            ls_list[epoch][0], ls_list[epoch][4], ls_list[epoch][8]))"
   ]
  },
  {
   "cell_type": "code",
   "execution_count": null,
   "metadata": {},
   "outputs": [],
   "source": [
    "# Calls to training loops themselves:\n",
    "trainConstantLR(model_CLR_S, optimizer_CLR_S, criterion, N_EPOCHS, lossList_CLR_S, valList_CLR_S)"
   ]
  },
  {
   "cell_type": "code",
   "execution_count": null,
   "metadata": {},
   "outputs": [],
   "source": [
    "trainConstantLR(model_CLR_M, optimizer_CLR_M, criterion, N_EPOCHS, lossList_CLR_M, valList_CLR_M)"
   ]
  },
  {
   "cell_type": "code",
   "execution_count": null,
   "metadata": {},
   "outputs": [],
   "source": [
    "trainConstantLR(model_CLR_L, optimizer_CLR_L, criterion, N_EPOCHS, lossList_CLR_M, valList_CLR_L)"
   ]
  },
  {
   "cell_type": "code",
   "execution_count": null,
   "metadata": {},
   "outputs": [],
   "source": [
    "trainConstantLR(model_CLR_WM, optimizer_CLR_WM, criterion, N_EPOCHS, lossList_CLR_WM, valList_CLR_WM)"
   ]
  },
  {
   "cell_type": "code",
   "execution_count": 82,
   "metadata": {},
   "outputs": [],
   "source": [
    "# saving the EPOCH-losses\n",
    "A= np.asarray(lossList_CLR_S)\n",
    "B= np.asarray(lossList_CLR_M)\n",
    "C= np.asarray(lossList_CLR_L)\n",
    "D= np.asarray(lossList_CLR_WM)\n",
    "\n",
    "np.save(\"/home/aryamanj/Downloads/lossList_CLR_S.npy\", A)\n",
    "np.save(\"/home/aryamanj/Downloads/lossList_CLR_M.npy\", B)\n",
    "np.save(\"/home/aryamanj/Downloads/lossList_CLR_L.npy\", C)\n",
    "np.save(\"/home/aryamanj/Downloads/lossList_CLR_WM.npy\", D)"
   ]
  },
  {
   "cell_type": "markdown",
   "metadata": {},
   "source": [
    "## Instantiations and training loops using adaH as the optimizer algorithm"
   ]
  },
  {
   "cell_type": "code",
   "execution_count": 75,
   "metadata": {},
   "outputs": [],
   "source": [
    "# instantiating objects for all adaH tests:\n",
    "size1,size2= 300,300\n",
    "model_adaH_S= LALRnetwork(size1, size2, 0.1).to(device)\n",
    "optimizer_adaH_S= optim.SGD(model_adaH_S.parameters(), lr= 0.1)\n",
    "lossList_adaH_S= []\n",
    "valList_adaH_S= []\n",
    "\n",
    "size1, size2= 1000, 1000\n",
    "model_adaH_M= LALRnetwork(size1, size2, 0.1).to(device)\n",
    "optimizer_adaH_M= optim.SGD(model_adaH_M.parameters(), lr= 0.1)\n",
    "lossList_adaH_M= []\n",
    "valList_adaH_M= []\n",
    "\n",
    "size1, size2= 3000, 3000\n",
    "model_adaH_L= LALRnetwork(size1, size2, 0.1).to(device)\n",
    "optimizer_adaH_L= optim.SGD(model_adaH_L.parameters(), lr= 0.1)\n",
    "lossList_adaH_L= []\n",
    "valList_adaH_L= []\n",
    "\n",
    "size1= 2000\n",
    "model_adaH_WM= LALRwideM(size1, 0.1).to(device)\n",
    "optimizer_adaH_WM= optim.SGD(model_adaH_WM.parameters(), lr= 0.1)\n",
    "lossList_adaH_WM= []\n",
    "valList_adaH_WM= []"
   ]
  },
  {
   "cell_type": "code",
   "execution_count": null,
   "metadata": {},
   "outputs": [],
   "source": [
    "trainadaH(model_adaH_S, optimizer_adaH_S, criterion, N_EPOCHS, lossList_adaH_S, valList_adaH_S)"
   ]
  },
  {
   "cell_type": "code",
   "execution_count": null,
   "metadata": {},
   "outputs": [],
   "source": [
    "trainadaH(model_adaH_M, optimizer_adaH_M, criterion, N_EPOCHS, lossList_adaH_M, valList_adaH_M)"
   ]
  },
  {
   "cell_type": "code",
   "execution_count": null,
   "metadata": {},
   "outputs": [],
   "source": [
    "trainadaH(model_adaH_L, optimizer_adaH_L, criterion, N_EPOCHS, lossList_adaH_L, valList_adaH_L)"
   ]
  },
  {
   "cell_type": "code",
   "execution_count": null,
   "metadata": {},
   "outputs": [],
   "source": [
    "trainadaH(model_adaH_WM, optimizer_adaH_WM, criterion, N_EPOCHS, lossList_adaH_WM, valList_adaH_WM)"
   ]
  },
  {
   "cell_type": "code",
   "execution_count": 22,
   "metadata": {},
   "outputs": [],
   "source": [
    "E= np.asarray(lossList_adaH_S)\n",
    "F_= np.asarray(lossList_adaH_M)\n",
    "G= np.asarray(lossList_adaH_L)\n",
    "H= np.asarray(lossList_adaH_WM)\n",
    "\n",
    "np.save(\"/home/aryamanj/Downloads/lossList_adaH_S.npy\", E)\n",
    "np.save(\"/home/aryamanj/Downloads/lossList_adaH_M.npy\", F_)\n",
    "np.save(\"/home/aryamanj/Downloads/lossList_adaH_L.npy\", G)\n",
    "np.save(\"/home/aryamanj/Downloads/lossList_adaH_WM.npy\", H)"
   ]
  },
  {
   "cell_type": "markdown",
   "metadata": {},
   "source": [
    "I see the following steps to incorporating LALR into the code:\n",
    "1. Be able to compute the $K_z$: \n",
    "    * This is defined to be the largest activation in the penultimate layer\n",
    "    * Hence, our network needs a method that allows us to obtain it's penultimate output and then simply take a supremum over it \n",
    "2. For now, a possible LC of the log-cosh seems to be just the same as for the check, namely, $\\frac{K_z}{m}\\times \\max(\\tau, 1-\\tau)$ -- these kinds of LC's are all expressable in the form: $C.\\frac{K_z}{m}$ (where C is some constant which we know)\n",
    "\n",
    "The next expression that we want to try out, is: $\\frac{1}{m}\\tanh(g(0)-y_k).K_z: \\text{ } z_k^{[L]}=0$, or, exploiting the continuity of the regression problem, we can also write: $\\frac{1}{m}\\tanh(g(0)-y_k).K_z,\\text{ where: } k= \\argmin_j z_j^{[L]}$\n",
    "\n",
    "Hence, for implementing the above expression in addition to the penultimate function, we also need access to the set of pre-activation values, and be able to compute the $\\argmin$ from among them, since in this network, we do not have any activation function acting on the final layer, we can just compute the minimum feature in the final layer"
   ]
  },
  {
   "cell_type": "code",
   "execution_count": 68,
   "metadata": {},
   "outputs": [],
   "source": [
    "# A new network class for LALR training, that supports returning penultimate activations\n",
    "class LALRnetwork(nn.Module):\n",
    "    def __init__(self, size1, size2, drop):\n",
    "        super(LALRnetwork, self).__init__()\n",
    "        self.l1= nn.Linear(943, size1)\n",
    "        self.l2= nn.Dropout(p= drop)\n",
    "        self.l3= nn.Linear(size1, size2)\n",
    "        self.l4= nn.Dropout(p= drop)\n",
    "        # creating separate heads for all the different quantiles\n",
    "        self.fc1= nn.Linear(size2, 4760)\n",
    "        self.fc2= nn.Linear(size2, 4760)\n",
    "        self.fc3= nn.Linear(size2, 4760)\n",
    "        self.fc4= nn.Linear(size2, 4760)\n",
    "        self.fc5= nn.Linear(size2, 4760)\n",
    "        self.fc6= nn.Linear(size2, 4760)\n",
    "        self.fc7= nn.Linear(size2, 4760)\n",
    "        self.fc8= nn.Linear(size2, 4760)\n",
    "        self.fc9= nn.Linear(size2, 4760)\n",
    "\n",
    "    def forward(self, x):\n",
    "        x= F.tanh(self.l1(x))\n",
    "        x= F.tanh(self.l3(self.l2(x)))\n",
    "        x= self.l4(x)\n",
    "        q1= self.fc1(x)\n",
    "        q2= self.fc2(x)\n",
    "        q3= self.fc3(x)\n",
    "        q4= self.fc4(x)\n",
    "        q5= self.fc5(x)\n",
    "        q6= self.fc6(x)\n",
    "        q7= self.fc7(x)\n",
    "        q8= self.fc8(x)\n",
    "        q9= self.fc9(x)\n",
    "        return [q1,q2,q3,q4,q5,q6,q7,q8,q9]\n",
    "    \n",
    "    def penU(self, x):\n",
    "        x= F.tanh(self.l2(self.l1(x)))\n",
    "        x= F.tanh(self.l4(self.l3(x)))\n",
    "        return x\n",
    "\n",
    "# the loss-function wrapper for multi-class quantile learning\n",
    "class multiQuantileLoss(nn.Module):\n",
    "    def __init__(self, num_tasks):\n",
    "        super(multiQuantileLoss, self).__init__()\n",
    "        self.num_tasks= num_tasks\n",
    "\n",
    "    def forward(self, x, y, h, loss_list):\n",
    "        loss1= tiltedLC(x, y, 0.1, h) + loss_list[0]\n",
    "        loss2= tiltedLC(x, y, 0.2, h) + loss_list[1]\n",
    "        loss3= tiltedLC(x, y, 0.3, h)+ loss_list[2] \n",
    "        loss4= tiltedLC(x, y, 0.4, h)+ loss_list[3]\n",
    "        loss5= tiltedLC(x, y, 0.5, h)+ loss_list[4]\n",
    "        loss6= tiltedLC(x, y, 0.6, h)+ loss_list[5]\n",
    "        loss7= tiltedLC(x, y, 0.7, h)+ loss_list[6]\n",
    "        loss8= tiltedLC(x, y, 0.8, h)+ loss_list[7]\n",
    "        loss9= tiltedLC(x, y, 0.9, h)+ loss_list[8]\n",
    "        loss_list= [loss1,loss2,loss3,loss4,loss5,loss6,loss7,loss8,loss9]\n",
    "\n",
    "        return [(loss1+loss2+loss3+loss4+loss5+loss6+loss7+loss8+loss9)/9, loss_list]\n",
    "\n",
    "\n",
    "class LALRwideM(nn.Module):\n",
    "    def __init__(self, size1, drop):\n",
    "        super(LALRwideM, self).__init__()\n",
    "        self.l1= nn.Linear(943, size1)\n",
    "        self.l2= nn.Dropout(p= drop)\n",
    "        self.l3= nn.Linear(size1, 4760)\n",
    "\n",
    "    def forward(self,x):\n",
    "        x= F.tanh(self.l1(x))\n",
    "        return self.l3(self.l2(x))\n",
    "        \n",
    "    def penU(self, x):\n",
    "        x= F.tanh(self.l1(x))\n",
    "        return self.l2(x)\n",
    "\n",
    "\n",
    "def computeLR(model, bSize= 16):\n",
    "    \"\"\"\n",
    "    Takes in a network of the LALRnetwork class(during some arbitrary EPOCH of training) and the current input, and returns Kz for the EPOCH\n",
    "    \"\"\"\n",
    "    Kz = 0.0\n",
    "    z_k= 0.0\n",
    "    model.eval()\n",
    "    with torch.no_grad():\n",
    "        for i,j in enumerate(trainLoader):\n",
    "            inputs,labels= j[0],j[1]\n",
    "            inputs= inputs.to(device)\n",
    "            labels= labels.to(device)\n",
    "            op1= model.penU(inputs)\n",
    "            op2= model(inputs)\n",
    "            # activ1= np.linalg.norm(op1.detach().cpu().numpy())\n",
    "            # activ2= np.linalg.norm(op2.detach().cpu().numpy())\n",
    "            activ1= torch.max(op1)\n",
    "            activ2, arg2= torch.min(op2[0], dim= 1)\n",
    "            # print(arg2, i)\n",
    "            # print(activ2, i)\n",
    "            # now, we take the minimum across batches\n",
    "            val, indx= torch.min(activ2, dim= 0)\n",
    "            # print(indx, i)\n",
    "            if activ1 > Kz:\n",
    "                Kz= activ1\n",
    "            if val < z_k:\n",
    "                z_k= val\n",
    "                argMin= arg2[indx]\n",
    "    print(int(indx), int(argMin))\n",
    "    LR= (1/bSize)*torch.tanh(-(op2[0])[int(indx)][int(argMin)])*Kz\n",
    "    if LR==0:\n",
    "        return 0.1\n",
    "    return 1/LR\n"
   ]
  },
  {
   "cell_type": "code",
   "execution_count": 69,
   "metadata": {},
   "outputs": [],
   "source": [
    "# writing training loop for networks with LALR\n",
    "def train_adaptive_lr(model,optimizer, criterion, epochs, ls_list, valList):\n",
    "    \"\"\"\n",
    "    Training loop used for LALR training\n",
    "    \"\"\"\n",
    "    for epoch in range(epochs):\n",
    "        epoch_loss= [0.0, 0.0, 0.0, 0.0, 0.0, 0.0, 0.0, 0.0, 0.0]\n",
    "        lr_val= computeLR(model, bSize=16)\n",
    "        optimizer.param_groups[0]['lr']= lr_val\n",
    "        # training loop\n",
    "        model.train()\n",
    "        for inputs, labels in trainLoader: \n",
    "            inputs= inputs.to(device) \n",
    "            labels= labels.to(device)\n",
    "            labels= torch.tile(labels, (1,9))\n",
    "            optimizer.zero_grad() \n",
    "            outputs= model(inputs) \n",
    "            outputs= torch.cat(outputs, dim=1)\n",
    "            loss, epoch_loss = criterion(outputs, labels, h, epoch_loss) \n",
    "            loss.backward() \n",
    "            optimizer.step() \n",
    "\n",
    "        # validation loop\n",
    "        val_loss= [0.0, 0.0, 0.0, 0.0, 0.0, 0.0, 0.0, 0.0, 0.0]\n",
    "        model.eval()\n",
    "        for inputs, labels in valLoader:\n",
    "            inputs= inputs.to(device)\n",
    "            labels= labels.to(device)\n",
    "            outputs= model(inputs)\n",
    "            loss= criterion(outputs, labels, h, val_loss)\n",
    "        ls_list.append([x/len(trainLoader) for x in epoch_loss])\n",
    "        valList.append([x/len(valLoader) for x in valList])\n",
    "        print(\"Epoch: {} Loss-0.1: {} Loss-0.5: {} Loss-0.9: {} LR: {}\".format(epoch,\n",
    "            ls_list[epoch][0], ls_list[epoch][4], ls_list[epoch][8], optimizer.param_groups[0]['lr']))"
   ]
  },
  {
   "cell_type": "code",
   "execution_count": 62,
   "metadata": {},
   "outputs": [],
   "source": [
    "# instantiating LALR models\n",
    "model_lr_1= LALRnetwork(size1=300, size2=300, drop=0.1).to(device)\n",
    "optimizer_lr_1= optim.SGD(model_lr_1.parameters(), lr= 0.1)\n",
    "loss_list_lr_1= []\n",
    "valList_LR_S= []\n",
    "\n",
    "model_lr_2= LALRnetwork(size1=1000, size2=1000, drop=0.1).to(device)\n",
    "optimizer_lr_2= optim.SGD(model_lr_2.parameters(), lr= 0.1)\n",
    "loss_list_lr_2= []\n",
    "valList_LR_M= []\n",
    "\n",
    "model_lr_3= LALRnetwork(size1=3000, size2=3000, drop=0.1).to(device)\n",
    "optimizer_lr_3= optim.SGD(model_lr_3.parameters(), lr= 0.1)\n",
    "loss_list_lr_3= []\n",
    "valList_LR_L= []\n",
    "\n",
    "\n",
    "model_lr_4= LALRwideM(size1=2000,drop=0.1).to(device)\n",
    "optimizer_lr_4= optim.SGD(model_lr_4.parameters(), lr= 0.1)\n",
    "loss_list_lr_4= []\n",
    "valList_LR_WM= []"
   ]
  },
  {
   "cell_type": "code",
   "execution_count": null,
   "metadata": {},
   "outputs": [],
   "source": [
    "train_adaptive_lr(model_lr_1,optimizer_lr_1, criterion, N_EPOCHS, loss_list_lr_1, valList_LR_S)"
   ]
  },
  {
   "cell_type": "code",
   "execution_count": null,
   "metadata": {},
   "outputs": [],
   "source": [
    "train_adaptive_lr(model_lr_2,optimizer_lr_2, criterion, N_EPOCHS, loss_list_lr_2, valList_LR_M)"
   ]
  },
  {
   "cell_type": "code",
   "execution_count": null,
   "metadata": {},
   "outputs": [],
   "source": [
    "train_adaptive_lr(model_lr_3, optimizer_lr_3, criterion, N_EPOCHS, loss_list_lr_3, valList_LR_L)"
   ]
  },
  {
   "cell_type": "code",
   "execution_count": null,
   "metadata": {},
   "outputs": [],
   "source": [
    "train_adaptive_lr(model_lr_4, optimizer_lr_4, criterion, N_EPOCHS, loss_list_lr_4, valList_LR_WM)"
   ]
  },
  {
   "cell_type": "code",
   "execution_count": 57,
   "metadata": {},
   "outputs": [],
   "source": [
    "H= np.asarray(loss_list_lr_1)\n",
    "I= np.asarray(loss_list_lr_2)\n",
    "J= np.asarray(loss_list_lr_3)\n",
    "K= np.asarray(loss_list_lr_4)\n",
    "\n",
    "np.save(\"/home/aryamanj/Downloads/lossList_LR_S.npy\", H)\n",
    "np.save(\"/home/aryamanj/Downloads/lossList_LR_M.npy\", I)\n",
    "np.save(\"/home/aryamanj/Downloads/lossList_LR_L.npy\", J)\n",
    "np.save(\"/home/aryamanj/Downloads/lossList_LR_WM.npy\", K)"
   ]
  }
 ],
 "metadata": {
  "interpreter": {
   "hash": "f631849613479c9658f644ddf8baf1a688d5be660ada6c6034305de03a8a6229"
  },
  "kernelspec": {
   "display_name": "Python 3.9.5 64-bit ('base': conda)",
   "name": "python3"
  },
  "language_info": {
   "codemirror_mode": {
    "name": "ipython",
    "version": 3
   },
   "file_extension": ".py",
   "mimetype": "text/x-python",
   "name": "python",
   "nbconvert_exporter": "python",
   "pygments_lexer": "ipython3",
   "version": "3.9.5"
  },
  "orig_nbformat": 4
 },
 "nbformat": 4,
 "nbformat_minor": 2
}
