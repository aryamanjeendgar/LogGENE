{
 "cells": [
  {
   "cell_type": "markdown",
   "metadata": {
    "collapsed": false
   },
   "source": [
    "## LALR testing for sBQC loss"
   ]
  },
  {
   "cell_type": "code",
   "execution_count": null,
   "metadata": {
    "collapsed": false
   },
   "outputs": [],
   "source": [
    "#My imports\n",
    "import numpy as np\n",
    "import pandas as pd\n",
    "import os\n",
    "import torch\n",
    "import torch.nn.functional as F\n",
    "import torch.nn as nn\n",
    "from torch import optim\n",
    "from adahessian import Adahessian, get_params_grad\n",
    "import torch.optim.lr_scheduler as lr_scheduler\n",
    "import math\n",
    "from sklearn.metrics import cohen_kappa_score\n",
    "from sklearn.metrics import jaccard_score\n",
    "from sklearn.metrics import f1_score\n",
    "\n",
    "# Other imports\n",
    "from sklearn.model_selection import train_test_split\n",
    "from sklearn.preprocessing import StandardScaler\n",
    "from sklearn.metrics import auc\n",
    "import torch\n",
    "import torch.nn as nn\n",
    "import torch.nn.functional as F\n",
    "from torch.autograd import Variable\n",
    "import torch.utils.data as data_utils\n",
    "import warnings\n",
    "import matplotlib.pyplot as plt\n",
    "# import shap\n"
   ]
  },
  {
   "cell_type": "code",
   "execution_count": 4,
   "metadata": {
    "collapsed": false
   },
   "outputs": [],
   "source": [
    "# Loss function code:\n",
    "\n",
    "def bareCDF(yhat, tau):\n",
    "    # yhat is a torch tensor, tau is a float\n",
    "    ind= (torch.sign(yhat)+1)/2 # mask about the origin\n",
    "    quantFactor= (1-tau)*ind + tau*(1-ind)\n",
    "    val= tau+4*quantFactor/math.pi*torch.atan(torch.tanh(yhat/2))\n",
    "    # print(\"bareCDF val: {}\".format(val))\n",
    "    return val\n",
    "\n",
    "def baresBQR(y, yhat, tau):\n",
    "    # y and yhat are torch tensors, tau is a float\n",
    "    val= torch.matmul(y,torch.log(1-bareCDF(yhat, tau)))+ torch.matmul((1-y),torch.log(bareCDF(yhat, tau)))\n",
    "    # print(\"bareBQR val: {}\".format(val))\n",
    "    return val\n",
    "\n",
    "class sBQRL(nn.Module):\n",
    "    def __init__(self):\n",
    "        super(sBQRL, self).__init__()\n",
    "    \n",
    "    def forward(self, y, yhat, tau):\n",
    "        return baresBQR(y, yhat, tau)\n"
   ]
  },
  {
   "cell_type": "code",
   "execution_count": 5,
   "metadata": {
    "collapsed": false
   },
   "outputs": [],
   "source": [
    "\n",
    "\n",
    "dataset= \"./Datasets/Classification/heart.csv\"\n",
    "x_cols = list(range(13)) # 13,8\n",
    "y_col = 13 # 13,8\n",
    "\n",
    "attribute_index = 7  # This controls which attribute is allowed to vary, 7,5\n",
    "attribute_name = \"BMI\" # Name of the attribute, used in the plots, max heart rate\n",
    "latent_name = \"Diabetes\" # Name of the function, used in the plots\n",
    "# The other attributes are replaced by the median value of the attribute\n",
    "Scaler= StandardScaler()\n",
    "batch_is= 64\n",
    "\n",
    "total_epochs = 20\n",
    "\n",
    "### \n",
    "def create_xy(dataset, attribute_columns, target_column, delim, split_ratio, ditch_head=True):\n",
    "    with open(dataset, 'r') as f:\n",
    "        lines = f.readlines()\n",
    "    if ditch_head:\n",
    "        lines = lines[1:]\n",
    "    X = []\n",
    "    Y = []\n",
    "    for line in lines:\n",
    "        while len(line) > 0 and line[-1] == \"\\n\":\n",
    "            line = line[:len(line)-1]\n",
    "        split_array = line.split(delim)\n",
    "        all_columns = []\n",
    "        for value in split_array:\n",
    "            if value !=\"\" and value !=\" \":\n",
    "                all_columns.append(value)\n",
    "        if len(all_columns)==0:\n",
    "            break\n",
    "        point = []\n",
    "        for i in attribute_columns:\n",
    "            point.append(float(all_columns[i]))\n",
    "        X.append(point)\n",
    "        Y.append(float(all_columns[target_column]))\n",
    "    X_arr = np.asarray(X)\n",
    "    X_unscaled = np.asarray(X)\n",
    "    Scaler.fit(X_arr)\n",
    "    X_arr = Scaler.transform(X_arr)\n",
    "    Y_arr = np.asarray(Y)\n",
    "    thresh = 0\n",
    "    Y_arr_binary = np.where(Y_arr<=thresh,0,1)\n",
    "    unique, counts = np.unique(Y_arr_binary, return_counts=True)\n",
    "    x_train, x_test, y_train, y_test = train_test_split(X_arr, Y_arr_binary, test_size = split_ratio)\n",
    "    return x_train, x_test, y_train, y_test, Y_arr, X_arr, X_unscaled\n",
    "\n",
    "###\n",
    "X_train,X_val,y_train,y_val, data_Y, data_X_scaled, data_X_unscaled = create_xy(dataset, x_cols, y_col, \",\", 0.4)\n",
    "shap_x_train = X_train.copy()\n",
    "shap_x_val = X_val.copy()\n",
    "X_train = torch.Tensor(X_train)\n",
    "y_train = torch.Tensor(y_train)\n",
    "# y_train= F.one_hot(y_train.to(torch.int64), num_classes=2)\n",
    "X_val = torch.Tensor(X_val)\n",
    "y_val = torch.Tensor(y_val)\n",
    "# y_val= F.one_hot(y_val.to(torch.int64), num_classes=2)\n",
    "train_dataset = data_utils.TensorDataset(X_train, y_train)\n",
    "test_dataset = data_utils.TensorDataset(X_val, y_val)\n",
    "train_loader = data_utils.DataLoader(train_dataset, batch_size =batch_is, pin_memory=True,shuffle=True,num_workers = 1)\n",
    "test_loader = data_utils.DataLoader(test_dataset,batch_size =batch_is,pin_memory=True,shuffle = False,num_workers = 1)"
   ]
  },
  {
   "cell_type": "code",
   "execution_count": 6,
   "metadata": {
    "collapsed": false
   },
   "outputs": [],
   "source": [
    "# Network definition:\n",
    "class LALRnetwork(nn.Module):\n",
    "    def __init__(self, indim):\n",
    "        super(LALRnetwork,self).__init__()\n",
    "        self.l1 = nn.Linear(indim,100)\n",
    "        self.l2 = nn.Linear(100,10)\n",
    "        self.l3 = nn.Linear(10,1)\n",
    "        \n",
    "    def forward(self,x):\n",
    "        x = F.tanh(self.l1(x))\n",
    "        x = F.tanh(self.l2(x))\n",
    "        # x = F.softmax(self.l3(x))\n",
    "        x = F.sigmoid(self.l3(x))\n",
    "        # x= torch.sign(x-torch.ones_like(x)*0.5)\n",
    "        # x= (x+torch.ones_like(x))/2\n",
    "        return x\n",
    "    \n",
    "    # Used in LALR\n",
    "    def penU(self, x):\n",
    "        op = F.tanh(self.l1(x))\n",
    "        op = F.tanh(self.l2(op))\n",
    "        return op\n"
   ]
  },
  {
   "cell_type": "code",
   "execution_count": 7,
   "metadata": {
    "collapsed": false
   },
   "outputs": [],
   "source": [
    "# Global initialisations:\n",
    "device= ('cuda' if torch.cuda.is_available() else 'cpu')\n",
    "indim = X_train.shape[1]\n",
    "modelLALR_sBQC = LALRnetwork(indim).to(device)\n",
    "modelCLR_sBQC= LALRnetwork(indim).to(device)\n",
    "modelLALR_BCE= LALRnetwork(indim).to(device)\n",
    "modelCLR_BCE= LALRnetwork(indim).to(device)\n",
    "modelLBFGS_sBQC = LALRnetwork(indim).to(device)\n",
    "\n",
    "criterion= sBQRL()\n",
    "criterion_= nn.BCELoss()\n",
    "h= 0.4\n",
    "lr_is = 1e-2\n",
    "optimizerLALR_sBQC= torch.optim.SGD(modelLALR_sBQC.parameters(), lr = lr_is)\n",
    "optimizerLALR_BCE= torch.optim.SGD(modelLALR_BCE.parameters(), lr = lr_is)\n",
    "optimizerCLR_sBQC= torch.optim.SGD(modelCLR_sBQC.parameters(), lr = lr_is)\n",
    "optimizerCLR_BCE= torch.optim.SGD(modelCLR_BCE.parameters(), lr = lr_is)\n",
    "optimizerLBFGS_sBQC= torch.optim.LBFGS(modelLBFGS_sBQC.parameters(), lr = lr_is)\n",
    "\n",
    "all_qs = [0.1,0.2,0.3,0.4,0.5,0.6,0.7,0.8,0.9]\n",
    "all_qs = torch.Tensor(all_qs).to(device)\n",
    "mean_is = 0\n",
    "std_is = 1\n",
    "penalty = 1\n",
    "alpha = 0.0\n",
    "tau= 0.2\n",
    "\n",
    "ls_list_LALR_sBQC= []\n",
    "val_list_LALR_sBQC= []\n",
    "acc_list_LALR_sBQC= []\n",
    "ls_list_CLR_sBQC= []\n",
    "val_list_CLR_sBQC= []\n",
    "acc_list_CLR_sBQC= []\n",
    "ls_list_LALR_BCE= []\n",
    "val_list_LALR_BCE= []\n",
    "acc_list_LALR_BCE= []\n",
    "ls_list_CLR_BCE= []\n",
    "val_list_CLR_BCE= []\n",
    "acc_list_CLR_BCE= []\n",
    "\n",
    "ls_list_LBFGS_sBQC= []\n",
    "val_list_LBFGS_sBQC= []\n",
    "acc_list_LBFGS_sBQC= []"
   ]
  },
  {
   "cell_type": "code",
   "execution_count": 9,
   "metadata": {
    "collapsed": false
   },
   "outputs": [],
   "source": [
    "# training loops:\n",
    "def trainConstantLR(model, trainLoader, valLoader, optimizer, criterion, tau, epochs, ls_list, valList, acc_list, loss_name= \"sBQC\"):\n",
    "    \"\"\"\n",
    "    Training loop used for CLR training\n",
    "    \"\"\"\n",
    "    for epoch in range(epochs):\n",
    "        epoch_loss= 0.0\n",
    "        # training loop\n",
    "        model.train()\n",
    "        for inputs, labels in trainLoader: \n",
    "            inputs= inputs.to(device) \n",
    "            labels= labels.to(device)\n",
    "            optimizer.zero_grad() \n",
    "            outputs= model(inputs) \n",
    "            # loss= criterion(torch.unsqueeze(labels, 1), outputs, tau) \n",
    "            # print(outputs, labels)\n",
    "            # outputs= outputs.to(torch.LongTensor()).to(device)\n",
    "            if loss_name== \"BCE\":\n",
    "                loss= criterion(outputs.view(outputs.shape[0],), labels) # For BCE\n",
    "            elif loss_name== \"sBQC\":\n",
    "                loss= criterion(labels, outputs.view(outputs.shape[0],), tau) # For sBQC\n",
    "            # loss= criterion(outputs, labels) # works for one hot encoding and BCE\n",
    "            # loss= criterion(outputs, torch.unsqueeze(labels, 1))#, tau) \n",
    "            loss.backward() \n",
    "            optimizer.step() \n",
    "            epoch_loss+= loss.item()\n",
    "        ls_list.append(epoch_loss/len(trainLoader))\n",
    "\n",
    "        # validation loop\n",
    "        val_loss= 0.0\n",
    "        num_correct= 0\n",
    "        total= 0 \n",
    "        model.eval()\n",
    "        for inputs, labels in valLoader:\n",
    "            inputs= inputs.to(device)\n",
    "            labels= labels.to(device)\n",
    "            outputs= model(inputs)\n",
    "            if loss_name== \"BCE\":\n",
    "                loss= criterion(outputs.view(outputs.shape[0],), labels) # For BCE\n",
    "            elif loss_name== \"sBQC\":\n",
    "                loss= criterion(labels, outputs.view(outputs.shape[0],), tau) # For sBQC\n",
    "            val_loss+= loss.item()\n",
    "            x= torch.where(outputs.view(outputs.shape[0]) > 0.5, 1, 0)\n",
    "            num_correct += (x==labels).sum()\n",
    "            total += labels.size(0)\n",
    "        valList.append(val_loss/len(valLoader))\n",
    "        acc_list.append(float(num_correct)/float(total)*100)\n",
    "        print(\"Epoch: {} Training Loss: {} Validation loss: {} Accuracy: {}\".format(epoch, epoch_loss/len(trainLoader), val_loss/len(valLoader),\n",
    "         float(num_correct)/float(total)*100))\n",
    "\n",
    "\n",
    "def trainLALR(model, trainLoader, valLoader, optimizer, criterion, tau, epochs, ls_list, valList, acc_list, mask, loss_name= \"sBQC\"):\n",
    "    \"\"\"\n",
    "    Training loop used for LALR training\n",
    "    \"\"\"\n",
    "    for epoch in range(epochs):\n",
    "        epoch_loss= 0.0\n",
    "        lr_val= computeLR(model,train_loader, mask, tau, bSize= batch_is)\n",
    "        optimizer.param_groups[0]['lr']= lr_val\n",
    "        # training loop\n",
    "        model.train()\n",
    "        for inputs, labels in trainLoader: \n",
    "            inputs= inputs.to(device) \n",
    "            labels= labels.to(device)\n",
    "            optimizer.zero_grad() \n",
    "            outputs= model(inputs) \n",
    "            if loss_name== \"BCE\":\n",
    "                loss= criterion(outputs.view(outputs.shape[0],), labels) # For BCE\n",
    "            elif loss_name== \"sBQC\":\n",
    "                loss= criterion(labels, outputs.view(outputs.shape[0],), tau) # For sBQC\n",
    "            loss.backward() \n",
    "            optimizer.step() \n",
    "            epoch_loss+= loss.item()\n",
    "        ls_list.append(epoch_loss/len(trainLoader))\n",
    "\n",
    "        # validation loop\n",
    "        val_loss= 0.0\n",
    "        num_correct= 0\n",
    "        total= 0 \n",
    "        model.eval()\n",
    "        for inputs, labels in valLoader:\n",
    "            inputs= inputs.to(device)\n",
    "            labels= labels.to(device)\n",
    "            outputs= model(inputs)\n",
    "            if loss_name== \"BCE\":\n",
    "                loss= criterion_(outputs.view(outputs.shape[0],), labels) # For BCE\n",
    "            elif loss_name== \"sBQC\":\n",
    "                loss= criterion(labels, outputs.view(outputs.shape[0],), tau) # For sBQC\n",
    "            val_loss+= loss.item()\n",
    "            x= torch.where(outputs.view(outputs.shape[0]) > 0.5, 1, 0)\n",
    "            num_correct += (x==labels).sum()\n",
    "            total += labels.size(0)\n",
    "        valList.append(val_loss/len(valLoader))\n",
    "        acc_list.append(float(num_correct)/float(total)*100)\n",
    "        print(\"Epoch: {} Training Loss: {} Validation loss: {} LR: {} Accuracy: {}\".format(epoch, epoch_loss/len(trainLoader), val_loss/len(valLoader), optimizer.param_groups[0]['lr'], float(num_correct)/float(total)*100))\n",
    "\n",
    "def trainLBFGS(model, trainLoader, valLoader, optimizer, criterion, tau, epochs, ls_list, valList, acc_list, loss_name= \"sBQC\"):\n",
    "    \"\"\"\n",
    "    Training loop used for LBFGS and conjugate gradient training\n",
    "    \"\"\"\n",
    "    for epoch in range(epochs):\n",
    "        epoch_loss= 0.0\n",
    "        # training loop\n",
    "        model.train()\n",
    "        for inputs, labels in trainLoader: \n",
    "            inputs= inputs.to(device) \n",
    "            labels= labels.to(device)\n",
    "            def closure():\n",
    "                optimizer.zero_grad()\n",
    "                outputs= model(inputs)\n",
    "                if loss_name== \"BCE\":\n",
    "                    loss= criterion(outputs.view(outputs.shape[0],), labels) # For BCE\n",
    "                elif loss_name== \"sBQC\":\n",
    "                    loss= criterion(labels, outputs.view(outputs.shape[0],), tau) # For sBQC\n",
    "                loss.backward()\n",
    "                return loss\n",
    "            # optimizer.step(closure)\n",
    "            # optimizer.zero_grad() \n",
    "            # outputs= model(inputs) \n",
    "            # loss= criterion(outputs, labels, tau, h) \n",
    "            # loss.backward()\n",
    "            optimizer.step(closure) \n",
    "        # ls_list.append(epoch_loss/len(trainLoader))\n",
    "\n",
    "        # validation loop\n",
    "        val_loss= 0.0\n",
    "        num_correct= 0\n",
    "        total= 0 \n",
    "        model.eval()\n",
    "        for inputs, labels in valLoader:\n",
    "            inputs= inputs.to(device)\n",
    "            labels= labels.to(device)\n",
    "            outputs= model(inputs)\n",
    "            if loss_name== \"BCE\":\n",
    "                loss= criterion(outputs.view(outputs.shape[0],), labels) # For BCE\n",
    "            elif loss_name== \"sBQC\":\n",
    "                loss= criterion(labels, outputs.view(outputs.shape[0],), tau) # For sBQC\n",
    "            val_loss+= loss.item()\n",
    "            x= torch.where(outputs.view(outputs.shape[0]) > 0.5, 1, 0)\n",
    "            num_correct += (x==labels).sum()\n",
    "            total += labels.size(0)\n",
    "        valList.append(val_loss/len(valLoader))\n",
    "        acc_list.append(float(num_correct)/float(total)*100)\n",
    "        print(\"Epoch: {} Training Loss: {} Validation loss: {} Accuracy: {}\".format(epoch, epoch_loss/len(trainLoader), val_loss/len(valLoader),\n",
    "         float(num_correct)/float(total)*100))\n",
    "\n",
    "def computeLR(model, trainLoader, mask, tau, bSize= 16):\n",
    "    \"\"\"\n",
    "    Takes in a network of the LALRnetwork class(during some arbitrary EPOCH of training) and the current input, and returns Kz for the EPOCH\n",
    "    \"\"\"\n",
    "    Kz = 0.0\n",
    "    model.eval()\n",
    "    with torch.no_grad():\n",
    "        for i,j in enumerate(trainLoader):\n",
    "            inputs,labels= j[0],j[1]\n",
    "            inputs= inputs.to(device)\n",
    "            labels= labels.to(device)\n",
    "            op1= model.penU(inputs)\n",
    "            # first taking the max and min for each batch\n",
    "            activ1, indx1= torch.max(op1, dim= 1)\n",
    "            # now, we take the max and min across batches\n",
    "            val1, indx2= torch.max(activ1, dim= 0)\n",
    "            # print(indx, i)\n",
    "            if val1 > Kz:\n",
    "                # in the case of K_z, we do not need the index where the max occurs, hence only deal with the value\n",
    "                Kz= val1 \n",
    "    factor= 1\n",
    "    if mask == 1:\n",
    "        factor =  max(2/math.pi, 2-2*tau/(math.pi*tau), 2*tau/(math.pi*(1-tau)))\n",
    "    else:\n",
    "        factor= 0.5\n",
    "    LR= (factor*Kz)/bSize\n",
    "    # if LR == 0:\n",
    "    #     return 0.1\n",
    "    return (1/LR)*0.001"
   ]
  },
  {
   "cell_type": "code",
   "execution_count": 55,
   "metadata": {
    "collapsed": false
   },
   "outputs": [
    {
     "name": "stdout",
     "output_type": "stream",
     "text": [
      "Epoch: 0 Training Loss: -48.034890492757164 Validation loss: -63.3626823425293 LR: 0.060971055179834366 Accuracy: 80.32786885245902\n",
      "Epoch: 1 Training Loss: -65.2692642211914 Validation loss: -65.9653434753418 LR: 0.04717822000384331 Accuracy: 83.60655737704919\n",
      "Epoch: 2 Training Loss: -67.4573262532552 Validation loss: -66.65286254882812 LR: 0.04696933552622795 Accuracy: 82.78688524590164\n",
      "Epoch: 3 Training Loss: -67.82853825887044 Validation loss: -67.13041305541992 LR: 0.04695512726902962 Accuracy: 83.60655737704919\n",
      "Epoch: 4 Training Loss: -67.81335703531902 Validation loss: -67.16574668884277 LR: 0.04694550111889839 Accuracy: 80.32786885245902\n",
      "Epoch: 5 Training Loss: -68.93311309814453 Validation loss: -67.7679214477539 LR: 0.046943873167037964 Accuracy: 82.78688524590164\n",
      "Epoch: 6 Training Loss: -68.85675938924153 Validation loss: -66.85663604736328 LR: 0.046942975372076035 Accuracy: 81.9672131147541\n",
      "Epoch: 7 Training Loss: -69.37136967976888 Validation loss: -66.94118881225586 LR: 0.046942517161369324 Accuracy: 81.14754098360656\n",
      "Epoch: 8 Training Loss: -69.80124155680339 Validation loss: -66.8886489868164 LR: 0.04694231599569321 Accuracy: 82.78688524590164\n",
      "Epoch: 9 Training Loss: -69.94730377197266 Validation loss: -67.00276184082031 LR: 0.04694228246808052 Accuracy: 83.60655737704919\n"
     ]
    }
   ],
   "source": [
    "# LALR, sBQC\n",
    "trainLALR(modelLALR_sBQC, train_loader, test_loader, optimizerLALR_sBQC, criterion, tau, 10, ls_list_LALR_sBQC, val_list_LALR_sBQC, acc_list_LALR_sBQC, 1, \"sBQC\")"
   ]
  },
  {
   "cell_type": "code",
   "execution_count": 56,
   "metadata": {
    "collapsed": false
   },
   "outputs": [
    {
     "name": "stdout",
     "output_type": "stream",
     "text": [
      "Epoch: 0 Training Loss: 0.6701245903968811 Validation loss: 0.6411528885364532 LR: 0.16850508749485016 Accuracy: 68.0327868852459\n",
      "Epoch: 1 Training Loss: 0.6273759007453918 Validation loss: 0.6038942933082581 LR: 0.16393183171749115 Accuracy: 75.40983606557377\n",
      "Epoch: 2 Training Loss: 0.5884689887364706 Validation loss: 0.5686658322811127 LR: 0.15039604902267456 Accuracy: 77.8688524590164\n",
      "Epoch: 3 Training Loss: 0.5494326949119568 Validation loss: 0.5361926853656769 LR: 0.14320386946201324 Accuracy: 78.68852459016394\n",
      "Epoch: 4 Training Loss: 0.5141144692897797 Validation loss: 0.5064030289649963 LR: 0.13894619047641754 Accuracy: 80.32786885245902\n",
      "Epoch: 5 Training Loss: 0.48473841945330304 Validation loss: 0.4812197834253311 LR: 0.13643237948417664 Accuracy: 80.32786885245902\n",
      "Epoch: 6 Training Loss: 0.45609330137570697 Validation loss: 0.46019382774829865 LR: 0.13476215302944183 Accuracy: 79.50819672131148\n",
      "Epoch: 7 Training Loss: 0.4334932168324788 Validation loss: 0.44329284131526947 LR: 0.13356934487819672 Accuracy: 81.14754098360656\n",
      "Epoch: 8 Training Loss: 0.40960567196210224 Validation loss: 0.42969587445259094 LR: 0.1328500360250473 Accuracy: 81.14754098360656\n",
      "Epoch: 9 Training Loss: 0.39559853076934814 Validation loss: 0.4194386303424835 LR: 0.13224577903747559 Accuracy: 81.14754098360656\n"
     ]
    }
   ],
   "source": [
    "# LALR, BCE\n",
    "trainLALR(modelLALR_BCE, train_loader, test_loader, optimizerLALR_BCE, criterion_, tau, 10, ls_list_LALR_BCE, val_list_LALR_BCE, acc_list_LALR_BCE, 2, \"BCE\")"
   ]
  },
  {
   "cell_type": "code",
   "execution_count": 86,
   "metadata": {
    "collapsed": false
   },
   "outputs": [
    {
     "name": "stdout",
     "output_type": "stream",
     "text": [
      "Epoch: 0 Training Loss: -70.02423985799153 Validation loss: -66.75816345214844 Accuracy: 80.32786885245902\n",
      "Epoch: 1 Training Loss: -70.13212331136067 Validation loss: -66.79656219482422 Accuracy: 80.32786885245902\n",
      "Epoch: 2 Training Loss: -70.15995407104492 Validation loss: -66.81208419799805 Accuracy: 80.32786885245902\n",
      "Epoch: 3 Training Loss: -70.28599294026692 Validation loss: -66.81711196899414 Accuracy: 80.32786885245902\n",
      "Epoch: 4 Training Loss: -70.30209986368816 Validation loss: -66.78569793701172 Accuracy: 80.32786885245902\n",
      "Epoch: 5 Training Loss: -70.38063557942708 Validation loss: -66.77813720703125 Accuracy: 80.32786885245902\n",
      "Epoch: 6 Training Loss: -70.40774027506511 Validation loss: -66.78976821899414 Accuracy: 80.32786885245902\n",
      "Epoch: 7 Training Loss: -70.47462844848633 Validation loss: -66.76856231689453 Accuracy: 80.32786885245902\n",
      "Epoch: 8 Training Loss: -70.5148188273112 Validation loss: -66.83937454223633 Accuracy: 80.32786885245902\n",
      "Epoch: 9 Training Loss: -70.55848566691081 Validation loss: -66.84365844726562 Accuracy: 80.32786885245902\n"
     ]
    }
   ],
   "source": [
    "# CLR, sBQC\n",
    "trainConstantLR(modelCLR_sBQC, train_loader, test_loader, optimizerCLR_sBQC, criterion, tau, 10, ls_list_CLR_sBQC, val_list_CLR_sBQC, acc_list_CLR_sBQC, \"sBQC\")"
   ]
  },
  {
   "cell_type": "code",
   "execution_count": 58,
   "metadata": {
    "collapsed": false
   },
   "outputs": [
    {
     "name": "stdout",
     "output_type": "stream",
     "text": [
      "Epoch: 0 Training Loss: 0.6907435258229574 Validation loss: 0.6896280348300934 Accuracy: 50.0\n",
      "Epoch: 1 Training Loss: 0.6850954492886862 Validation loss: 0.6846938133239746 Accuracy: 54.09836065573771\n",
      "Epoch: 2 Training Loss: 0.678990364074707 Validation loss: 0.6798910796642303 Accuracy: 54.91803278688525\n",
      "Epoch: 3 Training Loss: 0.6743672688802084 Validation loss: 0.6751616895198822 Accuracy: 57.377049180327866\n",
      "Epoch: 4 Training Loss: 0.6690641244252523 Validation loss: 0.6705153286457062 Accuracy: 62.295081967213115\n",
      "Epoch: 5 Training Loss: 0.6646490097045898 Validation loss: 0.6659351885318756 Accuracy: 64.75409836065575\n",
      "Epoch: 6 Training Loss: 0.6605125864346822 Validation loss: 0.6614405512809753 Accuracy: 66.39344262295081\n",
      "Epoch: 7 Training Loss: 0.6562609473864237 Validation loss: 0.6570298671722412 Accuracy: 68.85245901639344\n",
      "Epoch: 8 Training Loss: 0.6511433919270834 Validation loss: 0.6527410745620728 Accuracy: 72.1311475409836\n",
      "Epoch: 9 Training Loss: 0.6469916502634684 Validation loss: 0.6485454440116882 Accuracy: 72.95081967213115\n"
     ]
    }
   ],
   "source": [
    "# CLR, BCE\n",
    "trainConstantLR(modelCLR_BCE, train_loader, test_loader, optimizerCLR_BCE, criterion_, tau, 10, ls_list_CLR_BCE, val_list_CLR_BCE, acc_list_CLR_BCE, \"BCE\")"
   ]
  },
  {
   "cell_type": "code",
   "execution_count": 84,
   "metadata": {
    "collapsed": false
   },
   "outputs": [
    {
     "name": "stdout",
     "output_type": "stream",
     "text": [
      "Epoch: 0 Training Loss: 0.0 Validation loss: -67.76021575927734 Accuracy: 81.9672131147541\n",
      "Epoch: 1 Training Loss: 0.0 Validation loss: -67.76021575927734 Accuracy: 81.9672131147541\n",
      "Epoch: 2 Training Loss: 0.0 Validation loss: -67.76021575927734 Accuracy: 81.9672131147541\n",
      "Epoch: 3 Training Loss: 0.0 Validation loss: -67.76021575927734 Accuracy: 81.9672131147541\n",
      "Epoch: 4 Training Loss: 0.0 Validation loss: -67.76021575927734 Accuracy: 81.9672131147541\n",
      "Epoch: 5 Training Loss: 0.0 Validation loss: -67.76021575927734 Accuracy: 81.9672131147541\n",
      "Epoch: 6 Training Loss: 0.0 Validation loss: -67.76021575927734 Accuracy: 81.9672131147541\n",
      "Epoch: 7 Training Loss: 0.0 Validation loss: -67.76021575927734 Accuracy: 81.9672131147541\n",
      "Epoch: 8 Training Loss: 0.0 Validation loss: -67.76021575927734 Accuracy: 81.9672131147541\n",
      "Epoch: 9 Training Loss: 0.0 Validation loss: -67.76021575927734 Accuracy: 81.9672131147541\n"
     ]
    }
   ],
   "source": [
    "# LBFGS, sBQC\n",
    "trainLBFGS(modelLBFGS_sBQC, train_loader, test_loader, optimizerLBFGS_sBQC, criterion, tau, 10, ls_list_LBFGS_sBQC, val_list_LBFGS_sBQC, acc_list_LBFGS_sBQC, \"sBQC\")"
   ]
  },
  {
   "cell_type": "code",
   "execution_count": 89,
   "metadata": {
    "collapsed": false
   },
   "outputs": [
    {
     "data": {
      "text/plain": [
       "<matplotlib.legend.Legend at 0x7f1d7fa92450>"
      ]
     },
     "execution_count": 89,
     "metadata": {},
     "output_type": "execute_result"
    },
    {
     "data": {
      "image/png": "[encoded data removed]",
      "text/plain": [
       "<Figure size 432x288 with 1 Axes>"
      ]
     },
     "metadata": {
      "needs_background": "light"
     },
     "output_type": "display_data"
    }
   ],
   "source": [
    "# error plots\n",
    "# plt.plot(range(10), ls_list_LALR_sBQC)\n",
    "# plt.plot(range(len(val_list_LALR_sBQC)), val_list_LALR_sBQC, label= \"LALR_sBQC\")\n",
    "# plt.plot(range(len(ls_list_LALR_sBQC)), ls_list_LALR_sBQC, label= \"LALR_sBQC_ls\")\n",
    "# plt.plot(range(len(val_list_CLR_sBQC)), val_list_CLR_sBQC, label= \"CLR_sBQC\")\n",
    "# plt.plot(range(len(val_list_LALR_sBQC)), val_list_LALR_BCE, label= \"LALR_BCE\")\n",
    "# plt.plot(range(len(val_list_CLR_sBQC)), val_list_CLR_BCE, label= \"CLR_BCE\")\n",
    "# plt.plot(range(len(acc_list_CLR_BCE)), acc_list_CLR_BCE, label= \"CLR_BCE_acc\")\n",
    "plt.plot(range(len(acc_list_CLR_sBQC)), acc_list_CLR_sBQC, label= \"CLR_sBQC_acc\")\n",
    "# plt.plot(range(len(acc_list_LALR_BCE)), acc_list_LALR_BCE, label= \"LALR_BCE_acc\")\n",
    "# plt.plot(range(len(acc_list_LALR_sBQC)), acc_list_LALR_sBQC, label= \"LALR_sBQC_acc\")\n",
    "# plt.plot(range(len(val_list_LBFGS_sBQC)), val_list_LBFGS_sBQC, label= \"LBFGS_sBQC_val\")\n",
    "plt.plot(range(len(acc_list_LBFGS_sBQC)), acc_list_LBFGS_sBQC, label= \"LBFGS_sBQC_acc\")\n",
    "plt.xlabel(\"Epochs\")\n",
    "plt.ylabel(\"Validation loss\")\n",
    "plt.legend()"
   ]
  },
  {
   "cell_type": "code",
   "execution_count": 64,
   "metadata": {
    "collapsed": false
   },
   "outputs": [],
   "source": [
    "# metrics:\n",
    "def computeMetrics(model):\n",
    "    outputs= torch.Tensor([])\n",
    "    outputs= outputs.to(device)\n",
    "    labels= torch.Tensor([])\n",
    "    labels= labels.to(device)\n",
    "    for inputs, label in test_loader:\n",
    "        inputs= inputs.to(device)\n",
    "        label= label.to(device)\n",
    "        output= model(inputs)\n",
    "        outputs= torch.cat((outputs, output))\n",
    "        labels= torch.cat((labels, label))\n",
    "    x= outputs\n",
    "    x= torch.where(outputs.view(outputs.shape[0]) > 0.5, 1, 0)\n",
    "    CP= cohen_kappa_score(labels.detach().to('cpu').numpy(), x.detach().to('cpu').numpy())\n",
    "    JS= jaccard_score(labels.detach().to('cpu').numpy(), x.detach().to('cpu').numpy())\n",
    "    F1= f1_score(labels.detach().to('cpu').numpy(), x.detach().to('cpu').numpy())\n",
    "    return [CP, JS, F1]"
   ]
  },
  {
   "cell_type": "code",
   "execution_count": 48,
   "metadata": {
    "collapsed": false
   },
   "outputs": [
    {
     "data": {
      "text/plain": [
       "[0.6870105320010802, 0.75, 0.857142857142857]"
      ]
     },
     "execution_count": 48,
     "metadata": {},
     "output_type": "execute_result"
    }
   ],
   "source": [
    "computeMetrics(modelLALR_BCE)"
   ]
  }
 ],
 "metadata": {
  "interpreter": {
   "hash": "e7370f93d1d0cde622a1f8e1c04877d8463912d04d973331ad4851f04de6915a"
  },
  "kernelspec": {
   "argv": [
    "/home/aryamanj/miniconda3/bin/python",
    "-m",
    "ipykernel_launcher",
    "-f",
    "{connection_file}"
   ],
   "display_name": "Python 3 (ipykernel)",
   "env": null,
   "interrupt_mode": "signal",
   "language": "python",
   "metadata": {
    "debugger": true
   },
   "name": "python3"
  },
  "language_info": {
   "codemirror_mode": {
    "name": "ipython",
    "version": 3
   },
   "file_extension": ".py",
   "mimetype": "text/x-python",
   "name": "python",
   "nbconvert_exporter": "python",
   "pygments_lexer": "ipython3",
   "version": "3.7.11"
  },
  "name": "LALRclassification.ipynb"
 },
 "nbformat": 4,
 "nbformat_minor": 2
}
